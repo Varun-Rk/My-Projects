{
 "cells": [
  {
   "cell_type": "code",
   "execution_count": 170,
   "id": "cc62bab3",
   "metadata": {},
   "outputs": [],
   "source": [
    "import pandas as pd\n",
    "from sklearn.linear_model import LinearRegression\n",
    "from sklearn.model_selection import train_test_split\n",
    "from sklearn.metrics import accuracy_score,r2_score,mean_squared_error\n",
    "from sklearn.preprocessing import StandardScaler\n",
    "import seaborn as sns\n",
    "import matplotlib.pyplot as plt\n",
    "from xgboost import XGBRegressor"
   ]
  },
  {
   "cell_type": "code",
   "execution_count": 30,
   "id": "faadc28e",
   "metadata": {},
   "outputs": [],
   "source": [
    "data = pd.read_csv('finaldf.csv',)"
   ]
  },
  {
   "cell_type": "code",
   "execution_count": 31,
   "id": "3b72f3b5",
   "metadata": {},
   "outputs": [
    {
     "data": {
      "text/html": [
       "<div>\n",
       "<style scoped>\n",
       "    .dataframe tbody tr th:only-of-type {\n",
       "        vertical-align: middle;\n",
       "    }\n",
       "\n",
       "    .dataframe tbody tr th {\n",
       "        vertical-align: top;\n",
       "    }\n",
       "\n",
       "    .dataframe thead th {\n",
       "        text-align: right;\n",
       "    }\n",
       "</style>\n",
       "<table border=\"1\" class=\"dataframe\">\n",
       "  <thead>\n",
       "    <tr style=\"text-align: right;\">\n",
       "      <th></th>\n",
       "      <th>DATE</th>\n",
       "      <th>wage</th>\n",
       "      <th>gdp</th>\n",
       "      <th>unemp</th>\n",
       "      <th>homes_sold</th>\n",
       "      <th>new_homes</th>\n",
       "      <th>price</th>\n",
       "      <th>interest</th>\n",
       "    </tr>\n",
       "  </thead>\n",
       "  <tbody>\n",
       "    <tr>\n",
       "      <th>0</th>\n",
       "      <td>2000-06-30</td>\n",
       "      <td>606.0</td>\n",
       "      <td>101.723684</td>\n",
       "      <td>3.933333</td>\n",
       "      <td>305.333333</td>\n",
       "      <td>4.533333</td>\n",
       "      <td>104.050500</td>\n",
       "      <td>6.271978</td>\n",
       "    </tr>\n",
       "    <tr>\n",
       "      <th>1</th>\n",
       "      <td>2000-09-30</td>\n",
       "      <td>611.0</td>\n",
       "      <td>101.580894</td>\n",
       "      <td>4.000000</td>\n",
       "      <td>301.666667</td>\n",
       "      <td>4.166667</td>\n",
       "      <td>105.786000</td>\n",
       "      <td>6.519457</td>\n",
       "    </tr>\n",
       "    <tr>\n",
       "      <th>2</th>\n",
       "      <td>2000-12-31</td>\n",
       "      <td>614.0</td>\n",
       "      <td>101.176684</td>\n",
       "      <td>3.900000</td>\n",
       "      <td>301.333333</td>\n",
       "      <td>3.933333</td>\n",
       "      <td>108.274667</td>\n",
       "      <td>6.474891</td>\n",
       "    </tr>\n",
       "    <tr>\n",
       "      <th>3</th>\n",
       "      <td>2001-03-31</td>\n",
       "      <td>620.0</td>\n",
       "      <td>100.639951</td>\n",
       "      <td>4.233333</td>\n",
       "      <td>294.666667</td>\n",
       "      <td>3.766667</td>\n",
       "      <td>110.484667</td>\n",
       "      <td>5.597000</td>\n",
       "    </tr>\n",
       "    <tr>\n",
       "      <th>4</th>\n",
       "      <td>2001-06-30</td>\n",
       "      <td>624.0</td>\n",
       "      <td>100.115880</td>\n",
       "      <td>4.400000</td>\n",
       "      <td>296.666667</td>\n",
       "      <td>4.033333</td>\n",
       "      <td>112.203333</td>\n",
       "      <td>4.326703</td>\n",
       "    </tr>\n",
       "    <tr>\n",
       "      <th>...</th>\n",
       "      <td>...</td>\n",
       "      <td>...</td>\n",
       "      <td>...</td>\n",
       "      <td>...</td>\n",
       "      <td>...</td>\n",
       "      <td>...</td>\n",
       "      <td>...</td>\n",
       "      <td>...</td>\n",
       "    </tr>\n",
       "    <tr>\n",
       "      <th>84</th>\n",
       "      <td>2021-06-30</td>\n",
       "      <td>1048.0</td>\n",
       "      <td>99.278502</td>\n",
       "      <td>5.900000</td>\n",
       "      <td>331.000000</td>\n",
       "      <td>5.300000</td>\n",
       "      <td>254.633000</td>\n",
       "      <td>0.068242</td>\n",
       "    </tr>\n",
       "    <tr>\n",
       "      <th>85</th>\n",
       "      <td>2021-09-30</td>\n",
       "      <td>1068.0</td>\n",
       "      <td>99.829101</td>\n",
       "      <td>5.100000</td>\n",
       "      <td>370.333333</td>\n",
       "      <td>6.200000</td>\n",
       "      <td>266.878333</td>\n",
       "      <td>0.090000</td>\n",
       "    </tr>\n",
       "    <tr>\n",
       "      <th>86</th>\n",
       "      <td>2021-12-31</td>\n",
       "      <td>1069.0</td>\n",
       "      <td>100.231186</td>\n",
       "      <td>4.233333</td>\n",
       "      <td>388.666667</td>\n",
       "      <td>6.233333</td>\n",
       "      <td>276.591000</td>\n",
       "      <td>0.079457</td>\n",
       "    </tr>\n",
       "    <tr>\n",
       "      <th>87</th>\n",
       "      <td>2022-03-31</td>\n",
       "      <td>1100.0</td>\n",
       "      <td>100.059628</td>\n",
       "      <td>3.800000</td>\n",
       "      <td>400.333333</td>\n",
       "      <td>6.233333</td>\n",
       "      <td>290.544667</td>\n",
       "      <td>0.121444</td>\n",
       "    </tr>\n",
       "    <tr>\n",
       "      <th>88</th>\n",
       "      <td>2022-06-30</td>\n",
       "      <td>1107.0</td>\n",
       "      <td>99.675495</td>\n",
       "      <td>3.600000</td>\n",
       "      <td>437.000000</td>\n",
       "      <td>8.400000</td>\n",
       "      <td>303.267500</td>\n",
       "      <td>0.330000</td>\n",
       "    </tr>\n",
       "  </tbody>\n",
       "</table>\n",
       "<p>89 rows × 8 columns</p>\n",
       "</div>"
      ],
      "text/plain": [
       "          DATE    wage         gdp     unemp  homes_sold  new_homes  \\\n",
       "0   2000-06-30   606.0  101.723684  3.933333  305.333333   4.533333   \n",
       "1   2000-09-30   611.0  101.580894  4.000000  301.666667   4.166667   \n",
       "2   2000-12-31   614.0  101.176684  3.900000  301.333333   3.933333   \n",
       "3   2001-03-31   620.0  100.639951  4.233333  294.666667   3.766667   \n",
       "4   2001-06-30   624.0  100.115880  4.400000  296.666667   4.033333   \n",
       "..         ...     ...         ...       ...         ...        ...   \n",
       "84  2021-06-30  1048.0   99.278502  5.900000  331.000000   5.300000   \n",
       "85  2021-09-30  1068.0   99.829101  5.100000  370.333333   6.200000   \n",
       "86  2021-12-31  1069.0  100.231186  4.233333  388.666667   6.233333   \n",
       "87  2022-03-31  1100.0  100.059628  3.800000  400.333333   6.233333   \n",
       "88  2022-06-30  1107.0   99.675495  3.600000  437.000000   8.400000   \n",
       "\n",
       "         price  interest  \n",
       "0   104.050500  6.271978  \n",
       "1   105.786000  6.519457  \n",
       "2   108.274667  6.474891  \n",
       "3   110.484667  5.597000  \n",
       "4   112.203333  4.326703  \n",
       "..         ...       ...  \n",
       "84  254.633000  0.068242  \n",
       "85  266.878333  0.090000  \n",
       "86  276.591000  0.079457  \n",
       "87  290.544667  0.121444  \n",
       "88  303.267500  0.330000  \n",
       "\n",
       "[89 rows x 8 columns]"
      ]
     },
     "execution_count": 31,
     "metadata": {},
     "output_type": "execute_result"
    }
   ],
   "source": [
    "data"
   ]
  },
  {
   "cell_type": "code",
   "execution_count": null,
   "id": "903c65c3",
   "metadata": {},
   "outputs": [],
   "source": [
    "data['DATE']"
   ]
  },
  {
   "cell_type": "code",
   "execution_count": 160,
   "id": "6be047df",
   "metadata": {},
   "outputs": [],
   "source": [
    "X_1 = data.drop(['DATE','price'],axis=1)"
   ]
  },
  {
   "cell_type": "code",
   "execution_count": 80,
   "id": "c21f05c7",
   "metadata": {},
   "outputs": [],
   "source": [
    "y = data['price']"
   ]
  },
  {
   "cell_type": "code",
   "execution_count": 135,
   "id": "1c14f5bd",
   "metadata": {},
   "outputs": [],
   "source": [
    "scaler = StandardScaler()"
   ]
  },
  {
   "cell_type": "code",
   "execution_count": 137,
   "id": "97e8d707",
   "metadata": {},
   "outputs": [],
   "source": [
    "X = scaler.fit_transform(X)"
   ]
  },
  {
   "cell_type": "code",
   "execution_count": 139,
   "id": "3aa223d5",
   "metadata": {},
   "outputs": [],
   "source": [
    "X_train, X_test, y_train, y_test = train_test_split(X, y, test_size=0.30, shuffle=False)"
   ]
  },
  {
   "cell_type": "code",
   "execution_count": 140,
   "id": "90f0fdd1",
   "metadata": {},
   "outputs": [],
   "source": [
    "model = LinearRegression()"
   ]
  },
  {
   "cell_type": "code",
   "execution_count": 141,
   "id": "52b48391",
   "metadata": {},
   "outputs": [
    {
     "data": {
      "text/plain": [
       "LinearRegression()"
      ]
     },
     "execution_count": 141,
     "metadata": {},
     "output_type": "execute_result"
    }
   ],
   "source": [
    "model.fit(X_train,y_train)"
   ]
  },
  {
   "cell_type": "code",
   "execution_count": 142,
   "id": "93de241f",
   "metadata": {},
   "outputs": [],
   "source": [
    "preds = model.predict(X_test)"
   ]
  },
  {
   "cell_type": "code",
   "execution_count": 143,
   "id": "a9c549c9",
   "metadata": {
    "scrolled": true
   },
   "outputs": [],
   "source": [
    "predf = pd.DataFrame(data = preds,columns={'preds'})"
   ]
  },
  {
   "cell_type": "code",
   "execution_count": 144,
   "id": "87d1e110",
   "metadata": {},
   "outputs": [],
   "source": [
    "predf['ytest'] = y_test"
   ]
  },
  {
   "cell_type": "code",
   "execution_count": 145,
   "id": "cad4bb38",
   "metadata": {
    "scrolled": true
   },
   "outputs": [
    {
     "data": {
      "text/plain": [
       "210.77914667269692"
      ]
     },
     "execution_count": 145,
     "metadata": {},
     "output_type": "execute_result"
    }
   ],
   "source": [
    "mean_squared_error(preds,y_test)"
   ]
  },
  {
   "cell_type": "code",
   "execution_count": 146,
   "id": "da0ef757",
   "metadata": {},
   "outputs": [
    {
     "data": {
      "text/plain": [
       "0.9760881929391834"
      ]
     },
     "execution_count": 146,
     "metadata": {},
     "output_type": "execute_result"
    }
   ],
   "source": [
    "model.score(X_train,y_train)"
   ]
  },
  {
   "cell_type": "code",
   "execution_count": 147,
   "id": "4de2c7c5",
   "metadata": {},
   "outputs": [
    {
     "data": {
      "text/plain": [
       "0.8216127671868516"
      ]
     },
     "execution_count": 147,
     "metadata": {},
     "output_type": "execute_result"
    }
   ],
   "source": [
    "model.score(X_test,y_test)"
   ]
  },
  {
   "cell_type": "code",
   "execution_count": 148,
   "id": "c6123da9",
   "metadata": {},
   "outputs": [
    {
     "data": {
      "text/plain": [
       "array([43.16318583, -0.1501309 ,  0.98577775, 21.36256985, -4.58015239,\n",
       "       -0.59888072])"
      ]
     },
     "execution_count": 148,
     "metadata": {},
     "output_type": "execute_result"
    }
   ],
   "source": [
    "model.coef_"
   ]
  },
  {
   "cell_type": "code",
   "execution_count": 152,
   "id": "19237d22",
   "metadata": {},
   "outputs": [],
   "source": [
    "predf = pd.DataFrame(data=y_test)"
   ]
  },
  {
   "cell_type": "code",
   "execution_count": 153,
   "id": "1df82996",
   "metadata": {},
   "outputs": [],
   "source": [
    "predf['preds'] = preds"
   ]
  },
  {
   "cell_type": "code",
   "execution_count": 154,
   "id": "1afa1011",
   "metadata": {},
   "outputs": [
    {
     "data": {
      "text/html": [
       "<div>\n",
       "<style scoped>\n",
       "    .dataframe tbody tr th:only-of-type {\n",
       "        vertical-align: middle;\n",
       "    }\n",
       "\n",
       "    .dataframe tbody tr th {\n",
       "        vertical-align: top;\n",
       "    }\n",
       "\n",
       "    .dataframe thead th {\n",
       "        text-align: right;\n",
       "    }\n",
       "</style>\n",
       "<table border=\"1\" class=\"dataframe\">\n",
       "  <thead>\n",
       "    <tr style=\"text-align: right;\">\n",
       "      <th></th>\n",
       "      <th>price</th>\n",
       "      <th>preds</th>\n",
       "    </tr>\n",
       "  </thead>\n",
       "  <tbody>\n",
       "    <tr>\n",
       "      <th>62</th>\n",
       "      <td>175.700667</td>\n",
       "      <td>178.032593</td>\n",
       "    </tr>\n",
       "    <tr>\n",
       "      <th>63</th>\n",
       "      <td>177.720667</td>\n",
       "      <td>181.517423</td>\n",
       "    </tr>\n",
       "    <tr>\n",
       "      <th>64</th>\n",
       "      <td>179.439000</td>\n",
       "      <td>183.842456</td>\n",
       "    </tr>\n",
       "    <tr>\n",
       "      <th>65</th>\n",
       "      <td>181.851000</td>\n",
       "      <td>186.021432</td>\n",
       "    </tr>\n",
       "    <tr>\n",
       "      <th>66</th>\n",
       "      <td>184.727000</td>\n",
       "      <td>190.302243</td>\n",
       "    </tr>\n",
       "    <tr>\n",
       "      <th>67</th>\n",
       "      <td>187.379333</td>\n",
       "      <td>196.269792</td>\n",
       "    </tr>\n",
       "    <tr>\n",
       "      <th>68</th>\n",
       "      <td>189.682333</td>\n",
       "      <td>198.260143</td>\n",
       "    </tr>\n",
       "    <tr>\n",
       "      <th>69</th>\n",
       "      <td>192.669333</td>\n",
       "      <td>198.735949</td>\n",
       "    </tr>\n",
       "    <tr>\n",
       "      <th>70</th>\n",
       "      <td>195.896000</td>\n",
       "      <td>199.003562</td>\n",
       "    </tr>\n",
       "    <tr>\n",
       "      <th>71</th>\n",
       "      <td>199.141000</td>\n",
       "      <td>206.071051</td>\n",
       "    </tr>\n",
       "    <tr>\n",
       "      <th>72</th>\n",
       "      <td>201.622333</td>\n",
       "      <td>209.497070</td>\n",
       "    </tr>\n",
       "    <tr>\n",
       "      <th>73</th>\n",
       "      <td>203.721333</td>\n",
       "      <td>212.375873</td>\n",
       "    </tr>\n",
       "    <tr>\n",
       "      <th>74</th>\n",
       "      <td>205.449333</td>\n",
       "      <td>218.232833</td>\n",
       "    </tr>\n",
       "    <tr>\n",
       "      <th>75</th>\n",
       "      <td>206.726667</td>\n",
       "      <td>223.166599</td>\n",
       "    </tr>\n",
       "    <tr>\n",
       "      <th>76</th>\n",
       "      <td>208.489333</td>\n",
       "      <td>224.859115</td>\n",
       "    </tr>\n",
       "    <tr>\n",
       "      <th>77</th>\n",
       "      <td>210.212667</td>\n",
       "      <td>228.972463</td>\n",
       "    </tr>\n",
       "    <tr>\n",
       "      <th>78</th>\n",
       "      <td>212.492667</td>\n",
       "      <td>231.650905</td>\n",
       "    </tr>\n",
       "    <tr>\n",
       "      <th>79</th>\n",
       "      <td>215.547000</td>\n",
       "      <td>237.860399</td>\n",
       "    </tr>\n",
       "    <tr>\n",
       "      <th>80</th>\n",
       "      <td>217.764000</td>\n",
       "      <td>257.377159</td>\n",
       "    </tr>\n",
       "    <tr>\n",
       "      <th>81</th>\n",
       "      <td>222.678000</td>\n",
       "      <td>256.109427</td>\n",
       "    </tr>\n",
       "    <tr>\n",
       "      <th>82</th>\n",
       "      <td>232.592000</td>\n",
       "      <td>247.243202</td>\n",
       "    </tr>\n",
       "    <tr>\n",
       "      <th>83</th>\n",
       "      <td>242.141667</td>\n",
       "      <td>252.753564</td>\n",
       "    </tr>\n",
       "    <tr>\n",
       "      <th>84</th>\n",
       "      <td>254.633000</td>\n",
       "      <td>257.300932</td>\n",
       "    </tr>\n",
       "    <tr>\n",
       "      <th>85</th>\n",
       "      <td>266.878333</td>\n",
       "      <td>268.847017</td>\n",
       "    </tr>\n",
       "    <tr>\n",
       "      <th>86</th>\n",
       "      <td>276.591000</td>\n",
       "      <td>272.139336</td>\n",
       "    </tr>\n",
       "    <tr>\n",
       "      <th>87</th>\n",
       "      <td>290.544667</td>\n",
       "      <td>284.531337</td>\n",
       "    </tr>\n",
       "    <tr>\n",
       "      <th>88</th>\n",
       "      <td>303.267500</td>\n",
       "      <td>288.445863</td>\n",
       "    </tr>\n",
       "  </tbody>\n",
       "</table>\n",
       "</div>"
      ],
      "text/plain": [
       "         price       preds\n",
       "62  175.700667  178.032593\n",
       "63  177.720667  181.517423\n",
       "64  179.439000  183.842456\n",
       "65  181.851000  186.021432\n",
       "66  184.727000  190.302243\n",
       "67  187.379333  196.269792\n",
       "68  189.682333  198.260143\n",
       "69  192.669333  198.735949\n",
       "70  195.896000  199.003562\n",
       "71  199.141000  206.071051\n",
       "72  201.622333  209.497070\n",
       "73  203.721333  212.375873\n",
       "74  205.449333  218.232833\n",
       "75  206.726667  223.166599\n",
       "76  208.489333  224.859115\n",
       "77  210.212667  228.972463\n",
       "78  212.492667  231.650905\n",
       "79  215.547000  237.860399\n",
       "80  217.764000  257.377159\n",
       "81  222.678000  256.109427\n",
       "82  232.592000  247.243202\n",
       "83  242.141667  252.753564\n",
       "84  254.633000  257.300932\n",
       "85  266.878333  268.847017\n",
       "86  276.591000  272.139336\n",
       "87  290.544667  284.531337\n",
       "88  303.267500  288.445863"
      ]
     },
     "execution_count": 154,
     "metadata": {},
     "output_type": "execute_result"
    }
   ],
   "source": [
    "predf"
   ]
  },
  {
   "cell_type": "code",
   "execution_count": 155,
   "id": "f171b923",
   "metadata": {},
   "outputs": [
    {
     "data": {
      "text/plain": [
       "<AxesSubplot:>"
      ]
     },
     "execution_count": 155,
     "metadata": {},
     "output_type": "execute_result"
    },
    {
     "data": {
      "image/png": "[encoded data removed]",
      "text/plain": [
       "<Figure size 432x288 with 1 Axes>"
      ]
     },
     "metadata": {
      "needs_background": "light"
     },
     "output_type": "display_data"
    }
   ],
   "source": [
    "predf.plot()"
   ]
  },
  {
   "cell_type": "code",
   "execution_count": 156,
   "id": "a97b04c0",
   "metadata": {},
   "outputs": [],
   "source": [
    "imp = model.coef_"
   ]
  },
  {
   "cell_type": "code",
   "execution_count": 161,
   "id": "2914eeb4",
   "metadata": {},
   "outputs": [],
   "source": [
    "cols =X_1.columns"
   ]
  },
  {
   "cell_type": "code",
   "execution_count": 163,
   "id": "5de57d89",
   "metadata": {},
   "outputs": [],
   "source": [
    "feat_imp = pd.DataFrame(data=imp)"
   ]
  },
  {
   "cell_type": "code",
   "execution_count": 164,
   "id": "706a0f6e",
   "metadata": {},
   "outputs": [],
   "source": [
    "feat_imp['features'] = cols"
   ]
  },
  {
   "cell_type": "code",
   "execution_count": 165,
   "id": "22a34209",
   "metadata": {},
   "outputs": [
    {
     "data": {
      "text/html": [
       "<div>\n",
       "<style scoped>\n",
       "    .dataframe tbody tr th:only-of-type {\n",
       "        vertical-align: middle;\n",
       "    }\n",
       "\n",
       "    .dataframe tbody tr th {\n",
       "        vertical-align: top;\n",
       "    }\n",
       "\n",
       "    .dataframe thead th {\n",
       "        text-align: right;\n",
       "    }\n",
       "</style>\n",
       "<table border=\"1\" class=\"dataframe\">\n",
       "  <thead>\n",
       "    <tr style=\"text-align: right;\">\n",
       "      <th></th>\n",
       "      <th>0</th>\n",
       "      <th>features</th>\n",
       "    </tr>\n",
       "  </thead>\n",
       "  <tbody>\n",
       "    <tr>\n",
       "      <th>0</th>\n",
       "      <td>43.163186</td>\n",
       "      <td>wage</td>\n",
       "    </tr>\n",
       "    <tr>\n",
       "      <th>1</th>\n",
       "      <td>-0.150131</td>\n",
       "      <td>gdp</td>\n",
       "    </tr>\n",
       "    <tr>\n",
       "      <th>2</th>\n",
       "      <td>0.985778</td>\n",
       "      <td>unemp</td>\n",
       "    </tr>\n",
       "    <tr>\n",
       "      <th>3</th>\n",
       "      <td>21.362570</td>\n",
       "      <td>homes_sold</td>\n",
       "    </tr>\n",
       "    <tr>\n",
       "      <th>4</th>\n",
       "      <td>-4.580152</td>\n",
       "      <td>new_homes</td>\n",
       "    </tr>\n",
       "    <tr>\n",
       "      <th>5</th>\n",
       "      <td>-0.598881</td>\n",
       "      <td>interest</td>\n",
       "    </tr>\n",
       "  </tbody>\n",
       "</table>\n",
       "</div>"
      ],
      "text/plain": [
       "           0    features\n",
       "0  43.163186        wage\n",
       "1  -0.150131         gdp\n",
       "2   0.985778       unemp\n",
       "3  21.362570  homes_sold\n",
       "4  -4.580152   new_homes\n",
       "5  -0.598881    interest"
      ]
     },
     "execution_count": 165,
     "metadata": {},
     "output_type": "execute_result"
    }
   ],
   "source": [
    "feat_imp"
   ]
  },
  {
   "cell_type": "code",
   "execution_count": 169,
   "id": "b411cf16",
   "metadata": {},
   "outputs": [
    {
     "data": {
      "text/plain": [
       "<AxesSubplot:xlabel='features', ylabel='0'>"
      ]
     },
     "execution_count": 169,
     "metadata": {},
     "output_type": "execute_result"
    },
    {
     "data": {
      "image/png": "[encoded data removed]",
      "text/plain": [
       "<Figure size 720x720 with 1 Axes>"
      ]
     },
     "metadata": {
      "needs_background": "light"
     },
     "output_type": "display_data"
    }
   ],
   "source": [
    "plt.figure(figsize=(10,10))\n",
    "sns.barplot(x=feat_imp['features'],y=feat_imp[0])"
   ]
  },
  {
   "cell_type": "code",
   "execution_count": 174,
   "id": "6e5dca84",
   "metadata": {},
   "outputs": [],
   "source": [
    "importances = pd.DataFrame(data={\n",
    "    'Attribute': X_1.columns,\n",
    "    'Importance': model_x.feature_importances_\n",
    "})"
   ]
  },
  {
   "cell_type": "code",
   "execution_count": 175,
   "id": "f171e3d8",
   "metadata": {},
   "outputs": [
    {
     "data": {
      "text/html": [
       "<div>\n",
       "<style scoped>\n",
       "    .dataframe tbody tr th:only-of-type {\n",
       "        vertical-align: middle;\n",
       "    }\n",
       "\n",
       "    .dataframe tbody tr th {\n",
       "        vertical-align: top;\n",
       "    }\n",
       "\n",
       "    .dataframe thead th {\n",
       "        text-align: right;\n",
       "    }\n",
       "</style>\n",
       "<table border=\"1\" class=\"dataframe\">\n",
       "  <thead>\n",
       "    <tr style=\"text-align: right;\">\n",
       "      <th></th>\n",
       "      <th>Attribute</th>\n",
       "      <th>Importance</th>\n",
       "    </tr>\n",
       "  </thead>\n",
       "  <tbody>\n",
       "    <tr>\n",
       "      <th>0</th>\n",
       "      <td>wage</td>\n",
       "      <td>0.280592</td>\n",
       "    </tr>\n",
       "    <tr>\n",
       "      <th>1</th>\n",
       "      <td>gdp</td>\n",
       "      <td>0.124128</td>\n",
       "    </tr>\n",
       "    <tr>\n",
       "      <th>2</th>\n",
       "      <td>unemp</td>\n",
       "      <td>0.244292</td>\n",
       "    </tr>\n",
       "    <tr>\n",
       "      <th>3</th>\n",
       "      <td>homes_sold</td>\n",
       "      <td>0.320053</td>\n",
       "    </tr>\n",
       "    <tr>\n",
       "      <th>4</th>\n",
       "      <td>new_homes</td>\n",
       "      <td>0.018780</td>\n",
       "    </tr>\n",
       "    <tr>\n",
       "      <th>5</th>\n",
       "      <td>interest</td>\n",
       "      <td>0.012155</td>\n",
       "    </tr>\n",
       "  </tbody>\n",
       "</table>\n",
       "</div>"
      ],
      "text/plain": [
       "    Attribute  Importance\n",
       "0        wage    0.280592\n",
       "1         gdp    0.124128\n",
       "2       unemp    0.244292\n",
       "3  homes_sold    0.320053\n",
       "4   new_homes    0.018780\n",
       "5    interest    0.012155"
      ]
     },
     "execution_count": 175,
     "metadata": {},
     "output_type": "execute_result"
    }
   ],
   "source": [
    "importances"
   ]
  },
  {
   "cell_type": "code",
   "execution_count": 180,
   "id": "1919614f",
   "metadata": {},
   "outputs": [
    {
     "data": {
      "text/plain": [
       "<AxesSubplot:xlabel='Attribute', ylabel='Importance'>"
      ]
     },
     "execution_count": 180,
     "metadata": {},
     "output_type": "execute_result"
    },
    {
     "data": {
      "image/png": "[encoded data removed]",
      "text/plain": [
       "<Figure size 720x720 with 1 Axes>"
      ]
     },
     "metadata": {
      "needs_background": "light"
     },
     "output_type": "display_data"
    }
   ],
   "source": [
    "plt.figure(figsize=(10,10))\n",
    "sns.barplot(x=importances['Attribute'],y=importances['Importance'])"
   ]
  },
  {
   "cell_type": "code",
   "execution_count": 184,
   "id": "48765fa9",
   "metadata": {},
   "outputs": [],
   "source": [
    "df['price'] = data['price']"
   ]
  },
  {
   "cell_type": "code",
   "execution_count": 187,
   "id": "e64f1c93",
   "metadata": {},
   "outputs": [
    {
     "data": {
      "text/plain": [
       "<AxesSubplot:>"
      ]
     },
     "execution_count": 187,
     "metadata": {},
     "output_type": "execute_result"
    },
    {
     "data": {
      "image/png": "[encoded data removed]",
      "text/plain": [
       "<Figure size 720x720 with 2 Axes>"
      ]
     },
     "metadata": {
      "needs_background": "light"
     },
     "output_type": "display_data"
    }
   ],
   "source": [
    "plt.figure(figsize=(10,10))\n",
    "sns.heatmap(df.corr(),annot = True)"
   ]
  },
  {
   "cell_type": "code",
   "execution_count": null,
   "id": "e0265195",
   "metadata": {},
   "outputs": [],
   "source": []
  }
 ],
 "metadata": {
  "kernelspec": {
   "display_name": "Python 3 (ipykernel)",
   "language": "python",
   "name": "python3"
  },
  "language_info": {
   "codemirror_mode": {
    "name": "ipython",
    "version": 3
   },
   "file_extension": ".py",
   "mimetype": "text/x-python",
   "name": "python",
   "nbconvert_exporter": "python",
   "pygments_lexer": "ipython3",
   "version": "3.8.3"
  }
 },
 "nbformat": 4,
 "nbformat_minor": 5
}
