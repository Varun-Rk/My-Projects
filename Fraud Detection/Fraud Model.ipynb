{
 "cells": [
  {
   "cell_type": "code",
   "execution_count": 39,
   "id": "72d1a32c",
   "metadata": {},
   "outputs": [],
   "source": [
    "\n",
    "import pandas as pd\n",
    "import numpy as np\n",
    "from sklearn.preprocessing import StandardScaler,Normalizer,LabelEncoder\n",
    "from category_encoders.target_encoder import TargetEncoder\n",
    "from sklearn.model_selection import train_test_split,cross_val_score,RandomizedSearchCV,StratifiedKFold\n",
    "from sklearn.linear_model import LogisticRegression\n",
    "from sklearn.tree import DecisionTreeClassifier,ExtraTreeClassifier\n",
    "from sklearn.ensemble import AdaBoostClassifier,GradientBoostingClassifier,RandomForestClassifier\n",
    "from sklearn.pipeline import Pipeline\n",
    "from sklearn.metrics import accuracy_score,classification_report,confusion_matrix\n"
   ]
  },
  {
   "cell_type": "markdown",
   "id": "63f920ba",
   "metadata": {},
   "source": [
    "## Feature Engineering"
   ]
  },
  {
   "cell_type": "code",
   "execution_count": 40,
   "id": "9fa33522",
   "metadata": {},
   "outputs": [],
   "source": [
    "data = pd.read_csv('Cleaned_Insuarance_1',index_col=0)"
   ]
  },
  {
   "cell_type": "code",
   "execution_count": 41,
   "id": "f1dfad39",
   "metadata": {},
   "outputs": [
    {
     "data": {
      "text/plain": [
       "N    1041265\n",
       "Name: Abortion, dtype: int64"
      ]
     },
     "execution_count": 41,
     "metadata": {},
     "output_type": "execute_result"
    }
   ],
   "source": [
    "data['Abortion'].value_counts()"
   ]
  },
  {
   "cell_type": "code",
   "execution_count": 42,
   "id": "73c94215",
   "metadata": {},
   "outputs": [],
   "source": [
    "data = data.drop('Abortion',axis=1)"
   ]
  },
  {
   "cell_type": "code",
   "execution_count": 43,
   "id": "1a60f8da",
   "metadata": {
    "scrolled": true
   },
   "outputs": [
    {
     "data": {
      "text/plain": [
       "White                     777034\n",
       "Black/African American    134127\n",
       "Other Race                126454\n",
       "Unknown                     3650\n",
       "Name: Cultural_group, dtype: int64"
      ]
     },
     "execution_count": 43,
     "metadata": {},
     "output_type": "execute_result"
    }
   ],
   "source": [
    "data['Cultural_group'].value_counts()"
   ]
  },
  {
   "cell_type": "code",
   "execution_count": 44,
   "id": "d08c5658",
   "metadata": {},
   "outputs": [],
   "source": [
    "data = data.replace({'Unknown':'Other Race'})"
   ]
  },
  {
   "cell_type": "code",
   "execution_count": 45,
   "id": "68d81ae2",
   "metadata": {},
   "outputs": [
    {
     "data": {
      "text/plain": [
       "Not Span/Hispanic    904866\n",
       "Spanish/Hispanic      86918\n",
       "Other Race            49481\n",
       "Name: ethnicity, dtype: int64"
      ]
     },
     "execution_count": 45,
     "metadata": {},
     "output_type": "execute_result"
    }
   ],
   "source": [
    "data['ethnicity'].value_counts()"
   ]
  },
  {
   "cell_type": "code",
   "execution_count": 46,
   "id": "9ab89055",
   "metadata": {},
   "outputs": [
    {
     "data": {
      "text/plain": [
       "2    428217\n",
       "1    340415\n",
       "3    269067\n",
       "4      3500\n",
       "5        66\n",
       "Name: Payment_Typology, dtype: int64"
      ]
     },
     "execution_count": 46,
     "metadata": {},
     "output_type": "execute_result"
    }
   ],
   "source": [
    "data['Payment_Typology'].value_counts()"
   ]
  },
  {
   "cell_type": "code",
   "execution_count": 47,
   "id": "5c51568a",
   "metadata": {},
   "outputs": [],
   "source": [
    "data = data[(data['Payment_Typology']!=5)&(data['Payment_Typology']!=4)]"
   ]
  },
  {
   "cell_type": "code",
   "execution_count": 48,
   "id": "ce33f87d",
   "metadata": {},
   "outputs": [],
   "source": [
    "data = data[data['Gender']!= 'U']"
   ]
  },
  {
   "cell_type": "code",
   "execution_count": 49,
   "id": "836dbfe4",
   "metadata": {},
   "outputs": [
    {
     "data": {
      "text/plain": [
       "Emergency        604218\n",
       "Elective         234245\n",
       "Urgent           109560\n",
       "Newborn           86383\n",
       "Trauma             2252\n",
       "Not Available      1014\n",
       "Name: Admission_type, dtype: int64"
      ]
     },
     "execution_count": 49,
     "metadata": {},
     "output_type": "execute_result"
    }
   ],
   "source": [
    "data['Admission_type'].value_counts()"
   ]
  },
  {
   "cell_type": "code",
   "execution_count": 50,
   "id": "b1290da6",
   "metadata": {},
   "outputs": [],
   "source": [
    "data = data[data['Admission_type']!='Not Available']"
   ]
  },
  {
   "cell_type": "code",
   "execution_count": 51,
   "id": "74d5e488",
   "metadata": {},
   "outputs": [],
   "source": [
    "data = data.replace({'Trauma':'Urgent'})"
   ]
  },
  {
   "cell_type": "code",
   "execution_count": 52,
   "id": "ec055c52",
   "metadata": {},
   "outputs": [
    {
     "data": {
      "text/plain": [
       "Home or Self Care                        685088\n",
       "Home w/ Home Health Services             131278\n",
       "Skilled Nursing Home                     108456\n",
       "Expired                                   22645\n",
       "Short-term Hospital                       21303\n",
       "Inpatient Rehabilitation Facility         17227\n",
       "Left Against Medical Advice               16928\n",
       "Psychiatric Hospital or Unit of Hosp       6658\n",
       "Hospice - Medical Facility                 4770\n",
       "Hospice - Home                             4695\n",
       "Another Type Not Listed                    4519\n",
       "Facility w/ Custodial/Supportive Care      3475\n",
       "Court/Law Enforcement                      3254\n",
       "Medicare Cert Long Term Care Hospital      2124\n",
       "Cancer Center or Children's Hospital       1874\n",
       "Hosp Basd Medicare Approved Swing Bed      1871\n",
       "Federal Health Care Facility                454\n",
       "Critical Access Hospital                     32\n",
       "Medicaid Cert Nursing Facility                7\n",
       "Name: Home or self care,, dtype: int64"
      ]
     },
     "execution_count": 52,
     "metadata": {},
     "output_type": "execute_result"
    }
   ],
   "source": [
    "data['Home or self care,'].value_counts()"
   ]
  },
  {
   "cell_type": "code",
   "execution_count": 53,
   "id": "47fc5c05",
   "metadata": {},
   "outputs": [],
   "source": [
    "data = data.replace({'Hospice - Home':'Home w/ Home Health Services',\n",
    "                     'Hospice - Medical Facility':'Medical Facility',\n",
    "                    'Medicaid Cert Nursing Facility':'Medical Facility',\n",
    "                     'Critical Access Hospital':'Medical Facility',\n",
    "                    'Federal Health Care Facility':'Medical Facility',\n",
    "                     \"Cancer Center or Children's Hospital\":'Medical Facility',\n",
    "                    'Hosp Basd Medicare Approved Swing Bed':'Medical Facility',\n",
    "                     'Medicare Cert Long Term Care Hospital':'Medical Facility',\n",
    "                     'Facility w/ Custodial/Supportive Care':'Medical Facility',\n",
    "                     'Psychiatric Hospital or Unit of Hosp':'Medical Facility'})"
   ]
  },
  {
   "cell_type": "code",
   "execution_count": 54,
   "id": "15a99004",
   "metadata": {},
   "outputs": [
    {
     "data": {
      "text/plain": [
       "Home or Self Care                    685088\n",
       "Home w/ Home Health Services         135973\n",
       "Skilled Nursing Home                 108456\n",
       "Expired                               22645\n",
       "Short-term Hospital                   21303\n",
       "Medical Facility                      21265\n",
       "Inpatient Rehabilitation Facility     17227\n",
       "Left Against Medical Advice           16928\n",
       "Another Type Not Listed                4519\n",
       "Court/Law Enforcement                  3254\n",
       "Name: Home or self care,, dtype: int64"
      ]
     },
     "execution_count": 54,
     "metadata": {},
     "output_type": "execute_result"
    }
   ],
   "source": [
    "data['Home or self care,'].value_counts()"
   ]
  },
  {
   "cell_type": "code",
   "execution_count": 55,
   "id": "c49b2178",
   "metadata": {},
   "outputs": [
    {
     "data": {
      "text/plain": [
       "Hudson Valley      258458\n",
       "Western NY         178503\n",
       "Central NY         169922\n",
       "Capital/Adirond    168512\n",
       "Finger Lakes       155350\n",
       "New York City       74307\n",
       "Southern Tier       31606\n",
       "Name: Area_Service, dtype: int64"
      ]
     },
     "execution_count": 55,
     "metadata": {},
     "output_type": "execute_result"
    }
   ],
   "source": [
    "data['Area_Service'].value_counts()"
   ]
  },
  {
   "cell_type": "code",
   "execution_count": 56,
   "id": "339fd666",
   "metadata": {},
   "outputs": [
    {
     "data": {
      "text/plain": [
       "array([  1,   2,   3,   4,   5,   6,   7,   8,   9,  10,  11,  12,  13,\n",
       "        14,  15,  16,  17,  18,  19,  20,  21,  22,  23,  24,  25,  26,\n",
       "        27,  28,  29,  30,  31,  32,  33,  34,  35,  36,  37,  38,  39,\n",
       "        40,  41,  42,  43,  44,  45,  46,  47,  48,  49,  50,  51,  52,\n",
       "        53,  54,  55,  56,  57,  58,  59,  60,  61,  62,  63,  64,  76,\n",
       "        77,  78,  79,  80,  81,  82,  83,  84,  85,  86,  87,  88,  89,\n",
       "        90,  91,  92,  93,  94,  95,  96,  97,  98,  99, 100, 101, 102,\n",
       "       103, 104, 105, 106, 107, 108, 109, 110, 111, 112, 113, 114, 115,\n",
       "       116, 117, 118, 119, 120, 121, 122, 123, 124, 125, 126, 127, 128,\n",
       "       129, 130, 131, 132, 133, 134, 135, 136, 137, 138, 139, 140, 141,\n",
       "       142, 143, 144, 145, 146, 147, 148, 149, 151, 152, 153, 154, 155,\n",
       "       156, 157, 158, 159, 160, 161, 162, 163, 164, 165, 166, 167, 168,\n",
       "       169, 170, 171, 172, 173, 174, 175, 176, 181, 182, 183, 184, 185,\n",
       "       186, 187, 188, 189, 190, 191, 192, 193, 194, 195, 196, 197, 198,\n",
       "       199, 200, 201, 202, 203, 204, 205, 206, 207, 208, 209, 210, 211,\n",
       "       212, 213, 214, 215, 216, 217, 218, 219, 220, 221, 222, 223, 224,\n",
       "       225, 226, 227, 228, 229, 230, 231, 232, 233, 234, 235, 236, 237,\n",
       "       238, 239, 240, 241, 242, 243, 244, 245, 246, 247, 248, 249, 250,\n",
       "       251, 252, 253, 254, 255, 256, 257, 258, 259, 650, 651, 652, 653,\n",
       "       654, 655, 656, 657, 658, 659, 660, 661, 662, 663, 670])"
      ]
     },
     "execution_count": 56,
     "metadata": {},
     "output_type": "execute_result"
    }
   ],
   "source": [
    "np.sort(data['ccs_diagnosis_code'].unique())"
   ]
  },
  {
   "cell_type": "code",
   "execution_count": 57,
   "id": "57e902f3",
   "metadata": {},
   "outputs": [
    {
     "data": {
      "text/plain": [
       "array([  0,   1,   2,   3,   4,   5,   6,   7,   8,   9,  10,  11,  12,\n",
       "        13,  14,  15,  16,  17,  18,  19,  20,  21,  22,  23,  24,  25,\n",
       "        26,  27,  28,  29,  30,  31,  32,  33,  34,  35,  36,  37,  38,\n",
       "        39,  40,  41,  42,  43,  44,  45,  47,  48,  49,  50,  51,  52,\n",
       "        53,  54,  55,  56,  57,  58,  59,  60,  61,  62,  63,  64,  65,\n",
       "        66,  67,  68,  69,  70,  71,  72,  73,  74,  75,  76,  77,  78,\n",
       "        79,  80,  81,  82,  83,  84,  85,  86,  87,  88,  89,  90,  91,\n",
       "        92,  93,  94,  95,  96,  97,  98,  99, 100, 101, 102, 103, 104,\n",
       "       105, 106, 107, 108, 109, 110, 111, 112, 113, 114, 115, 116, 117,\n",
       "       118, 119, 120, 121, 123, 124, 125, 127, 128, 129, 130, 131, 132,\n",
       "       133, 134, 135, 136, 137, 138, 139, 140, 141, 142, 143, 144, 145,\n",
       "       146, 147, 148, 149, 150, 151, 152, 153, 154, 155, 156, 157, 158,\n",
       "       159, 160, 161, 162, 163, 164, 165, 166, 167, 168, 169, 170, 171,\n",
       "       172, 173, 174, 175, 176, 177, 178, 179, 180, 181, 182, 183, 184,\n",
       "       185, 186, 187, 188, 189, 190, 191, 192, 193, 194, 195, 196, 197,\n",
       "       198, 199, 200, 201, 202, 203, 204, 205, 206, 207, 208, 209, 210,\n",
       "       211, 212, 213, 214, 215, 216, 217, 218, 219, 220, 221, 222, 223,\n",
       "       224, 225, 226, 227, 228, 229, 231])"
      ]
     },
     "execution_count": 57,
     "metadata": {},
     "output_type": "execute_result"
    }
   ],
   "source": [
    "np.sort(data['ccs_procedure_code'].unique())"
   ]
  },
  {
   "cell_type": "code",
   "execution_count": 58,
   "id": "39fbecfd",
   "metadata": {},
   "outputs": [],
   "source": [
    "data3 = data"
   ]
  },
  {
   "cell_type": "code",
   "execution_count": 59,
   "id": "ab4a9beb",
   "metadata": {},
   "outputs": [],
   "source": [
    "data = data.drop(['Area_Service','Admission_type','ethnicity','Hospital County'],axis=1)"
   ]
  },
  {
   "cell_type": "markdown",
   "id": "45e5f25a",
   "metadata": {},
   "source": [
    "## Encoding\n"
   ]
  },
  {
   "cell_type": "code",
   "execution_count": 60,
   "id": "e4918797",
   "metadata": {},
   "outputs": [],
   "source": [
    "l_encoder = LabelEncoder()"
   ]
  },
  {
   "cell_type": "code",
   "execution_count": 61,
   "id": "6a1b3d60",
   "metadata": {},
   "outputs": [],
   "source": [
    "t_encoder = TargetEncoder()"
   ]
  },
  {
   "cell_type": "code",
   "execution_count": 62,
   "id": "b1b07a7c",
   "metadata": {},
   "outputs": [],
   "source": [
    "pd.set_option('display.max_columns',500)"
   ]
  },
  {
   "cell_type": "code",
   "execution_count": 63,
   "id": "f94aaedb",
   "metadata": {},
   "outputs": [
    {
     "data": {
      "text/html": [
       "<div>\n",
       "<style scoped>\n",
       "    .dataframe tbody tr th:only-of-type {\n",
       "        vertical-align: middle;\n",
       "    }\n",
       "\n",
       "    .dataframe tbody tr th {\n",
       "        vertical-align: top;\n",
       "    }\n",
       "\n",
       "    .dataframe thead th {\n",
       "        text-align: right;\n",
       "    }\n",
       "</style>\n",
       "<table border=\"1\" class=\"dataframe\">\n",
       "  <thead>\n",
       "    <tr style=\"text-align: right;\">\n",
       "      <th></th>\n",
       "      <th>Hospital Id</th>\n",
       "      <th>Age</th>\n",
       "      <th>Gender</th>\n",
       "      <th>Cultural_group</th>\n",
       "      <th>Days_spend_hsptl</th>\n",
       "      <th>Home or self care,</th>\n",
       "      <th>ccs_diagnosis_code</th>\n",
       "      <th>ccs_procedure_code</th>\n",
       "      <th>apr_drg_description</th>\n",
       "      <th>Code_illness</th>\n",
       "      <th>Mortality risk</th>\n",
       "      <th>Surg_Description</th>\n",
       "      <th>Weight_baby</th>\n",
       "      <th>Emergency dept_yes/No</th>\n",
       "      <th>Tot_charg</th>\n",
       "      <th>Tot_cost</th>\n",
       "      <th>ratio_of_total_costs_to_total_charges</th>\n",
       "      <th>Result</th>\n",
       "      <th>Payment_Typology</th>\n",
       "    </tr>\n",
       "  </thead>\n",
       "  <tbody>\n",
       "    <tr>\n",
       "      <th>0</th>\n",
       "      <td>37.0</td>\n",
       "      <td>3</td>\n",
       "      <td>F</td>\n",
       "      <td>White</td>\n",
       "      <td>4</td>\n",
       "      <td>Home or Self Care</td>\n",
       "      <td>122</td>\n",
       "      <td>0</td>\n",
       "      <td>Other pneumonia</td>\n",
       "      <td>1</td>\n",
       "      <td>1.0</td>\n",
       "      <td>Medical</td>\n",
       "      <td>0</td>\n",
       "      <td>Y</td>\n",
       "      <td>5511.95</td>\n",
       "      <td>5582.49</td>\n",
       "      <td>1.012798</td>\n",
       "      <td>1</td>\n",
       "      <td>1</td>\n",
       "    </tr>\n",
       "    <tr>\n",
       "      <th>1</th>\n",
       "      <td>37.0</td>\n",
       "      <td>5</td>\n",
       "      <td>F</td>\n",
       "      <td>White</td>\n",
       "      <td>4</td>\n",
       "      <td>Short-term Hospital</td>\n",
       "      <td>197</td>\n",
       "      <td>0</td>\n",
       "      <td>Cellulitis &amp; other skin infections</td>\n",
       "      <td>3</td>\n",
       "      <td>2.0</td>\n",
       "      <td>Medical</td>\n",
       "      <td>0</td>\n",
       "      <td>Y</td>\n",
       "      <td>4783.20</td>\n",
       "      <td>5162.82</td>\n",
       "      <td>1.079365</td>\n",
       "      <td>1</td>\n",
       "      <td>1</td>\n",
       "    </tr>\n",
       "    <tr>\n",
       "      <th>2</th>\n",
       "      <td>37.0</td>\n",
       "      <td>3</td>\n",
       "      <td>F</td>\n",
       "      <td>White</td>\n",
       "      <td>3</td>\n",
       "      <td>Home or Self Care</td>\n",
       "      <td>122</td>\n",
       "      <td>0</td>\n",
       "      <td>Other pneumonia</td>\n",
       "      <td>1</td>\n",
       "      <td>1.0</td>\n",
       "      <td>Medical</td>\n",
       "      <td>0</td>\n",
       "      <td>Y</td>\n",
       "      <td>3829.15</td>\n",
       "      <td>4056.52</td>\n",
       "      <td>1.059379</td>\n",
       "      <td>1</td>\n",
       "      <td>1</td>\n",
       "    </tr>\n",
       "    <tr>\n",
       "      <th>3</th>\n",
       "      <td>37.0</td>\n",
       "      <td>1</td>\n",
       "      <td>F</td>\n",
       "      <td>White</td>\n",
       "      <td>1</td>\n",
       "      <td>Home or Self Care</td>\n",
       "      <td>122</td>\n",
       "      <td>0</td>\n",
       "      <td>Other pneumonia</td>\n",
       "      <td>1</td>\n",
       "      <td>1.0</td>\n",
       "      <td>Medical</td>\n",
       "      <td>0</td>\n",
       "      <td>Y</td>\n",
       "      <td>1108.20</td>\n",
       "      <td>1644.75</td>\n",
       "      <td>1.484167</td>\n",
       "      <td>0</td>\n",
       "      <td>1</td>\n",
       "    </tr>\n",
       "    <tr>\n",
       "      <th>4</th>\n",
       "      <td>37.0</td>\n",
       "      <td>5</td>\n",
       "      <td>F</td>\n",
       "      <td>White</td>\n",
       "      <td>3</td>\n",
       "      <td>Home or Self Care</td>\n",
       "      <td>122</td>\n",
       "      <td>0</td>\n",
       "      <td>Other pneumonia</td>\n",
       "      <td>2</td>\n",
       "      <td>3.0</td>\n",
       "      <td>Medical</td>\n",
       "      <td>0</td>\n",
       "      <td>Y</td>\n",
       "      <td>3418.18</td>\n",
       "      <td>3370.87</td>\n",
       "      <td>0.986161</td>\n",
       "      <td>1</td>\n",
       "      <td>1</td>\n",
       "    </tr>\n",
       "    <tr>\n",
       "      <th>...</th>\n",
       "      <td>...</td>\n",
       "      <td>...</td>\n",
       "      <td>...</td>\n",
       "      <td>...</td>\n",
       "      <td>...</td>\n",
       "      <td>...</td>\n",
       "      <td>...</td>\n",
       "      <td>...</td>\n",
       "      <td>...</td>\n",
       "      <td>...</td>\n",
       "      <td>...</td>\n",
       "      <td>...</td>\n",
       "      <td>...</td>\n",
       "      <td>...</td>\n",
       "      <td>...</td>\n",
       "      <td>...</td>\n",
       "      <td>...</td>\n",
       "      <td>...</td>\n",
       "      <td>...</td>\n",
       "    </tr>\n",
       "    <tr>\n",
       "      <th>1048570</th>\n",
       "      <td>1169.0</td>\n",
       "      <td>5</td>\n",
       "      <td>F</td>\n",
       "      <td>Other Race</td>\n",
       "      <td>6</td>\n",
       "      <td>Skilled Nursing Home</td>\n",
       "      <td>106</td>\n",
       "      <td>29</td>\n",
       "      <td>Cardiac arrhythmia &amp; conduction disorders</td>\n",
       "      <td>2</td>\n",
       "      <td>3.0</td>\n",
       "      <td>Medical</td>\n",
       "      <td>0</td>\n",
       "      <td>Y</td>\n",
       "      <td>69650.41</td>\n",
       "      <td>13896.82</td>\n",
       "      <td>0.199522</td>\n",
       "      <td>1</td>\n",
       "      <td>3</td>\n",
       "    </tr>\n",
       "    <tr>\n",
       "      <th>1048571</th>\n",
       "      <td>1169.0</td>\n",
       "      <td>1</td>\n",
       "      <td>F</td>\n",
       "      <td>Other Race</td>\n",
       "      <td>2</td>\n",
       "      <td>Home or Self Care</td>\n",
       "      <td>8</td>\n",
       "      <td>231</td>\n",
       "      <td>Other infectious &amp; parasitic diseases</td>\n",
       "      <td>2</td>\n",
       "      <td>1.0</td>\n",
       "      <td>Medical</td>\n",
       "      <td>0</td>\n",
       "      <td>N</td>\n",
       "      <td>13587.38</td>\n",
       "      <td>3918.35</td>\n",
       "      <td>0.288382</td>\n",
       "      <td>1</td>\n",
       "      <td>3</td>\n",
       "    </tr>\n",
       "    <tr>\n",
       "      <th>1048572</th>\n",
       "      <td>1169.0</td>\n",
       "      <td>4</td>\n",
       "      <td>M</td>\n",
       "      <td>Other Race</td>\n",
       "      <td>13</td>\n",
       "      <td>Medical Facility</td>\n",
       "      <td>151</td>\n",
       "      <td>88</td>\n",
       "      <td>Hepatic coma &amp; other major acute liver disorders</td>\n",
       "      <td>4</td>\n",
       "      <td>4.0</td>\n",
       "      <td>Medical</td>\n",
       "      <td>0</td>\n",
       "      <td>Y</td>\n",
       "      <td>104629.78</td>\n",
       "      <td>24746.64</td>\n",
       "      <td>0.236516</td>\n",
       "      <td>0</td>\n",
       "      <td>3</td>\n",
       "    </tr>\n",
       "    <tr>\n",
       "      <th>1048573</th>\n",
       "      <td>1169.0</td>\n",
       "      <td>3</td>\n",
       "      <td>F</td>\n",
       "      <td>Black/African American</td>\n",
       "      <td>2</td>\n",
       "      <td>Home or Self Care</td>\n",
       "      <td>143</td>\n",
       "      <td>86</td>\n",
       "      <td>Inguinal, femoral &amp; umbilical hernia procedures</td>\n",
       "      <td>1</td>\n",
       "      <td>1.0</td>\n",
       "      <td>Surgical</td>\n",
       "      <td>0</td>\n",
       "      <td>Y</td>\n",
       "      <td>27521.41</td>\n",
       "      <td>6766.04</td>\n",
       "      <td>0.245846</td>\n",
       "      <td>1</td>\n",
       "      <td>3</td>\n",
       "    </tr>\n",
       "    <tr>\n",
       "      <th>1048574</th>\n",
       "      <td>1169.0</td>\n",
       "      <td>4</td>\n",
       "      <td>M</td>\n",
       "      <td>Other Race</td>\n",
       "      <td>2</td>\n",
       "      <td>Home or Self Care</td>\n",
       "      <td>106</td>\n",
       "      <td>0</td>\n",
       "      <td>Cardiac arrhythmia &amp; conduction disorders</td>\n",
       "      <td>1</td>\n",
       "      <td>1.0</td>\n",
       "      <td>Medical</td>\n",
       "      <td>0</td>\n",
       "      <td>Y</td>\n",
       "      <td>24832.23</td>\n",
       "      <td>4974.66</td>\n",
       "      <td>0.200331</td>\n",
       "      <td>1</td>\n",
       "      <td>2</td>\n",
       "    </tr>\n",
       "  </tbody>\n",
       "</table>\n",
       "<p>1036658 rows × 19 columns</p>\n",
       "</div>"
      ],
      "text/plain": [
       "         Hospital Id  Age Gender          Cultural_group  Days_spend_hsptl  \\\n",
       "0               37.0    3      F                   White                 4   \n",
       "1               37.0    5      F                   White                 4   \n",
       "2               37.0    3      F                   White                 3   \n",
       "3               37.0    1      F                   White                 1   \n",
       "4               37.0    5      F                   White                 3   \n",
       "...              ...  ...    ...                     ...               ...   \n",
       "1048570       1169.0    5      F              Other Race                 6   \n",
       "1048571       1169.0    1      F              Other Race                 2   \n",
       "1048572       1169.0    4      M              Other Race                13   \n",
       "1048573       1169.0    3      F  Black/African American                 2   \n",
       "1048574       1169.0    4      M              Other Race                 2   \n",
       "\n",
       "           Home or self care,  ccs_diagnosis_code  ccs_procedure_code  \\\n",
       "0           Home or Self Care                 122                   0   \n",
       "1         Short-term Hospital                 197                   0   \n",
       "2           Home or Self Care                 122                   0   \n",
       "3           Home or Self Care                 122                   0   \n",
       "4           Home or Self Care                 122                   0   \n",
       "...                       ...                 ...                 ...   \n",
       "1048570  Skilled Nursing Home                 106                  29   \n",
       "1048571     Home or Self Care                   8                 231   \n",
       "1048572      Medical Facility                 151                  88   \n",
       "1048573     Home or Self Care                 143                  86   \n",
       "1048574     Home or Self Care                 106                   0   \n",
       "\n",
       "                                      apr_drg_description  Code_illness  \\\n",
       "0                                         Other pneumonia             1   \n",
       "1                      Cellulitis & other skin infections             3   \n",
       "2                                         Other pneumonia             1   \n",
       "3                                         Other pneumonia             1   \n",
       "4                                         Other pneumonia             2   \n",
       "...                                                   ...           ...   \n",
       "1048570         Cardiac arrhythmia & conduction disorders             2   \n",
       "1048571             Other infectious & parasitic diseases             2   \n",
       "1048572  Hepatic coma & other major acute liver disorders             4   \n",
       "1048573   Inguinal, femoral & umbilical hernia procedures             1   \n",
       "1048574         Cardiac arrhythmia & conduction disorders             1   \n",
       "\n",
       "         Mortality risk Surg_Description  Weight_baby Emergency dept_yes/No  \\\n",
       "0                   1.0          Medical            0                     Y   \n",
       "1                   2.0          Medical            0                     Y   \n",
       "2                   1.0          Medical            0                     Y   \n",
       "3                   1.0          Medical            0                     Y   \n",
       "4                   3.0          Medical            0                     Y   \n",
       "...                 ...              ...          ...                   ...   \n",
       "1048570             3.0          Medical            0                     Y   \n",
       "1048571             1.0          Medical            0                     N   \n",
       "1048572             4.0          Medical            0                     Y   \n",
       "1048573             1.0         Surgical            0                     Y   \n",
       "1048574             1.0          Medical            0                     Y   \n",
       "\n",
       "         Tot_charg  Tot_cost  ratio_of_total_costs_to_total_charges  Result  \\\n",
       "0          5511.95   5582.49                               1.012798       1   \n",
       "1          4783.20   5162.82                               1.079365       1   \n",
       "2          3829.15   4056.52                               1.059379       1   \n",
       "3          1108.20   1644.75                               1.484167       0   \n",
       "4          3418.18   3370.87                               0.986161       1   \n",
       "...            ...       ...                                    ...     ...   \n",
       "1048570   69650.41  13896.82                               0.199522       1   \n",
       "1048571   13587.38   3918.35                               0.288382       1   \n",
       "1048572  104629.78  24746.64                               0.236516       0   \n",
       "1048573   27521.41   6766.04                               0.245846       1   \n",
       "1048574   24832.23   4974.66                               0.200331       1   \n",
       "\n",
       "         Payment_Typology  \n",
       "0                       1  \n",
       "1                       1  \n",
       "2                       1  \n",
       "3                       1  \n",
       "4                       1  \n",
       "...                   ...  \n",
       "1048570                 3  \n",
       "1048571                 3  \n",
       "1048572                 3  \n",
       "1048573                 3  \n",
       "1048574                 2  \n",
       "\n",
       "[1036658 rows x 19 columns]"
      ]
     },
     "execution_count": 63,
     "metadata": {},
     "output_type": "execute_result"
    }
   ],
   "source": [
    "data"
   ]
  },
  {
   "cell_type": "code",
   "execution_count": 65,
   "id": "239c398b",
   "metadata": {},
   "outputs": [],
   "source": [
    "columns =['Hospital Id', 'Gender',\n",
    "       'Cultural_group','apr_drg_description',\n",
    "       'Surg_Description', 'Emergency dept_yes/No']"
   ]
  },
  {
   "cell_type": "code",
   "execution_count": 66,
   "id": "b902c8d2",
   "metadata": {},
   "outputs": [],
   "source": [
    "def ecoder(x):\n",
    "    for col in x:\n",
    "        data[col] = l_encoder.fit_transform(data[col])\n"
   ]
  },
  {
   "cell_type": "code",
   "execution_count": 67,
   "id": "29c2905b",
   "metadata": {},
   "outputs": [],
   "source": [
    "ecoder(columns)"
   ]
  },
  {
   "cell_type": "code",
   "execution_count": 68,
   "id": "75c053a1",
   "metadata": {},
   "outputs": [
    {
     "data": {
      "text/html": [
       "<div>\n",
       "<style scoped>\n",
       "    .dataframe tbody tr th:only-of-type {\n",
       "        vertical-align: middle;\n",
       "    }\n",
       "\n",
       "    .dataframe tbody tr th {\n",
       "        vertical-align: top;\n",
       "    }\n",
       "\n",
       "    .dataframe thead th {\n",
       "        text-align: right;\n",
       "    }\n",
       "</style>\n",
       "<table border=\"1\" class=\"dataframe\">\n",
       "  <thead>\n",
       "    <tr style=\"text-align: right;\">\n",
       "      <th></th>\n",
       "      <th>Hospital Id</th>\n",
       "      <th>Age</th>\n",
       "      <th>Gender</th>\n",
       "      <th>Cultural_group</th>\n",
       "      <th>Days_spend_hsptl</th>\n",
       "      <th>Home or self care,</th>\n",
       "      <th>ccs_diagnosis_code</th>\n",
       "      <th>ccs_procedure_code</th>\n",
       "      <th>apr_drg_description</th>\n",
       "      <th>Code_illness</th>\n",
       "      <th>Mortality risk</th>\n",
       "      <th>Surg_Description</th>\n",
       "      <th>Weight_baby</th>\n",
       "      <th>Emergency dept_yes/No</th>\n",
       "      <th>Tot_charg</th>\n",
       "      <th>Tot_cost</th>\n",
       "      <th>ratio_of_total_costs_to_total_charges</th>\n",
       "      <th>Result</th>\n",
       "      <th>Payment_Typology</th>\n",
       "    </tr>\n",
       "  </thead>\n",
       "  <tbody>\n",
       "    <tr>\n",
       "      <th>0</th>\n",
       "      <td>5</td>\n",
       "      <td>3</td>\n",
       "      <td>0</td>\n",
       "      <td>2</td>\n",
       "      <td>4</td>\n",
       "      <td>Home or Self Care</td>\n",
       "      <td>122</td>\n",
       "      <td>0</td>\n",
       "      <td>237</td>\n",
       "      <td>1</td>\n",
       "      <td>1.0</td>\n",
       "      <td>0</td>\n",
       "      <td>0</td>\n",
       "      <td>1</td>\n",
       "      <td>5511.95</td>\n",
       "      <td>5582.49</td>\n",
       "      <td>1.012798</td>\n",
       "      <td>1</td>\n",
       "      <td>1</td>\n",
       "    </tr>\n",
       "    <tr>\n",
       "      <th>1</th>\n",
       "      <td>5</td>\n",
       "      <td>5</td>\n",
       "      <td>0</td>\n",
       "      <td>2</td>\n",
       "      <td>4</td>\n",
       "      <td>Short-term Hospital</td>\n",
       "      <td>197</td>\n",
       "      <td>0</td>\n",
       "      <td>38</td>\n",
       "      <td>3</td>\n",
       "      <td>2.0</td>\n",
       "      <td>0</td>\n",
       "      <td>0</td>\n",
       "      <td>1</td>\n",
       "      <td>4783.20</td>\n",
       "      <td>5162.82</td>\n",
       "      <td>1.079365</td>\n",
       "      <td>1</td>\n",
       "      <td>1</td>\n",
       "    </tr>\n",
       "    <tr>\n",
       "      <th>2</th>\n",
       "      <td>5</td>\n",
       "      <td>3</td>\n",
       "      <td>0</td>\n",
       "      <td>2</td>\n",
       "      <td>3</td>\n",
       "      <td>Home or Self Care</td>\n",
       "      <td>122</td>\n",
       "      <td>0</td>\n",
       "      <td>237</td>\n",
       "      <td>1</td>\n",
       "      <td>1.0</td>\n",
       "      <td>0</td>\n",
       "      <td>0</td>\n",
       "      <td>1</td>\n",
       "      <td>3829.15</td>\n",
       "      <td>4056.52</td>\n",
       "      <td>1.059379</td>\n",
       "      <td>1</td>\n",
       "      <td>1</td>\n",
       "    </tr>\n",
       "    <tr>\n",
       "      <th>3</th>\n",
       "      <td>5</td>\n",
       "      <td>1</td>\n",
       "      <td>0</td>\n",
       "      <td>2</td>\n",
       "      <td>1</td>\n",
       "      <td>Home or Self Care</td>\n",
       "      <td>122</td>\n",
       "      <td>0</td>\n",
       "      <td>237</td>\n",
       "      <td>1</td>\n",
       "      <td>1.0</td>\n",
       "      <td>0</td>\n",
       "      <td>0</td>\n",
       "      <td>1</td>\n",
       "      <td>1108.20</td>\n",
       "      <td>1644.75</td>\n",
       "      <td>1.484167</td>\n",
       "      <td>0</td>\n",
       "      <td>1</td>\n",
       "    </tr>\n",
       "    <tr>\n",
       "      <th>4</th>\n",
       "      <td>5</td>\n",
       "      <td>5</td>\n",
       "      <td>0</td>\n",
       "      <td>2</td>\n",
       "      <td>3</td>\n",
       "      <td>Home or Self Care</td>\n",
       "      <td>122</td>\n",
       "      <td>0</td>\n",
       "      <td>237</td>\n",
       "      <td>2</td>\n",
       "      <td>3.0</td>\n",
       "      <td>0</td>\n",
       "      <td>0</td>\n",
       "      <td>1</td>\n",
       "      <td>3418.18</td>\n",
       "      <td>3370.87</td>\n",
       "      <td>0.986161</td>\n",
       "      <td>1</td>\n",
       "      <td>1</td>\n",
       "    </tr>\n",
       "    <tr>\n",
       "      <th>...</th>\n",
       "      <td>...</td>\n",
       "      <td>...</td>\n",
       "      <td>...</td>\n",
       "      <td>...</td>\n",
       "      <td>...</td>\n",
       "      <td>...</td>\n",
       "      <td>...</td>\n",
       "      <td>...</td>\n",
       "      <td>...</td>\n",
       "      <td>...</td>\n",
       "      <td>...</td>\n",
       "      <td>...</td>\n",
       "      <td>...</td>\n",
       "      <td>...</td>\n",
       "      <td>...</td>\n",
       "      <td>...</td>\n",
       "      <td>...</td>\n",
       "      <td>...</td>\n",
       "      <td>...</td>\n",
       "    </tr>\n",
       "    <tr>\n",
       "      <th>1048570</th>\n",
       "      <td>138</td>\n",
       "      <td>5</td>\n",
       "      <td>0</td>\n",
       "      <td>1</td>\n",
       "      <td>6</td>\n",
       "      <td>Skilled Nursing Home</td>\n",
       "      <td>106</td>\n",
       "      <td>29</td>\n",
       "      <td>28</td>\n",
       "      <td>2</td>\n",
       "      <td>3.0</td>\n",
       "      <td>0</td>\n",
       "      <td>0</td>\n",
       "      <td>1</td>\n",
       "      <td>69650.41</td>\n",
       "      <td>13896.82</td>\n",
       "      <td>0.199522</td>\n",
       "      <td>1</td>\n",
       "      <td>3</td>\n",
       "    </tr>\n",
       "    <tr>\n",
       "      <th>1048571</th>\n",
       "      <td>138</td>\n",
       "      <td>1</td>\n",
       "      <td>0</td>\n",
       "      <td>1</td>\n",
       "      <td>2</td>\n",
       "      <td>Home or Self Care</td>\n",
       "      <td>8</td>\n",
       "      <td>231</td>\n",
       "      <td>227</td>\n",
       "      <td>2</td>\n",
       "      <td>1.0</td>\n",
       "      <td>0</td>\n",
       "      <td>0</td>\n",
       "      <td>0</td>\n",
       "      <td>13587.38</td>\n",
       "      <td>3918.35</td>\n",
       "      <td>0.288382</td>\n",
       "      <td>1</td>\n",
       "      <td>3</td>\n",
       "    </tr>\n",
       "    <tr>\n",
       "      <th>1048572</th>\n",
       "      <td>138</td>\n",
       "      <td>4</td>\n",
       "      <td>1</td>\n",
       "      <td>1</td>\n",
       "      <td>13</td>\n",
       "      <td>Medical Facility</td>\n",
       "      <td>151</td>\n",
       "      <td>88</td>\n",
       "      <td>99</td>\n",
       "      <td>4</td>\n",
       "      <td>4.0</td>\n",
       "      <td>0</td>\n",
       "      <td>0</td>\n",
       "      <td>1</td>\n",
       "      <td>104629.78</td>\n",
       "      <td>24746.64</td>\n",
       "      <td>0.236516</td>\n",
       "      <td>0</td>\n",
       "      <td>3</td>\n",
       "    </tr>\n",
       "    <tr>\n",
       "      <th>1048573</th>\n",
       "      <td>138</td>\n",
       "      <td>3</td>\n",
       "      <td>0</td>\n",
       "      <td>0</td>\n",
       "      <td>2</td>\n",
       "      <td>Home or Self Care</td>\n",
       "      <td>143</td>\n",
       "      <td>86</td>\n",
       "      <td>109</td>\n",
       "      <td>1</td>\n",
       "      <td>1.0</td>\n",
       "      <td>1</td>\n",
       "      <td>0</td>\n",
       "      <td>1</td>\n",
       "      <td>27521.41</td>\n",
       "      <td>6766.04</td>\n",
       "      <td>0.245846</td>\n",
       "      <td>1</td>\n",
       "      <td>3</td>\n",
       "    </tr>\n",
       "    <tr>\n",
       "      <th>1048574</th>\n",
       "      <td>138</td>\n",
       "      <td>4</td>\n",
       "      <td>1</td>\n",
       "      <td>1</td>\n",
       "      <td>2</td>\n",
       "      <td>Home or Self Care</td>\n",
       "      <td>106</td>\n",
       "      <td>0</td>\n",
       "      <td>28</td>\n",
       "      <td>1</td>\n",
       "      <td>1.0</td>\n",
       "      <td>0</td>\n",
       "      <td>0</td>\n",
       "      <td>1</td>\n",
       "      <td>24832.23</td>\n",
       "      <td>4974.66</td>\n",
       "      <td>0.200331</td>\n",
       "      <td>1</td>\n",
       "      <td>2</td>\n",
       "    </tr>\n",
       "  </tbody>\n",
       "</table>\n",
       "<p>1036658 rows × 19 columns</p>\n",
       "</div>"
      ],
      "text/plain": [
       "         Hospital Id  Age  Gender  Cultural_group  Days_spend_hsptl  \\\n",
       "0                  5    3       0               2                 4   \n",
       "1                  5    5       0               2                 4   \n",
       "2                  5    3       0               2                 3   \n",
       "3                  5    1       0               2                 1   \n",
       "4                  5    5       0               2                 3   \n",
       "...              ...  ...     ...             ...               ...   \n",
       "1048570          138    5       0               1                 6   \n",
       "1048571          138    1       0               1                 2   \n",
       "1048572          138    4       1               1                13   \n",
       "1048573          138    3       0               0                 2   \n",
       "1048574          138    4       1               1                 2   \n",
       "\n",
       "           Home or self care,  ccs_diagnosis_code  ccs_procedure_code  \\\n",
       "0           Home or Self Care                 122                   0   \n",
       "1         Short-term Hospital                 197                   0   \n",
       "2           Home or Self Care                 122                   0   \n",
       "3           Home or Self Care                 122                   0   \n",
       "4           Home or Self Care                 122                   0   \n",
       "...                       ...                 ...                 ...   \n",
       "1048570  Skilled Nursing Home                 106                  29   \n",
       "1048571     Home or Self Care                   8                 231   \n",
       "1048572      Medical Facility                 151                  88   \n",
       "1048573     Home or Self Care                 143                  86   \n",
       "1048574     Home or Self Care                 106                   0   \n",
       "\n",
       "         apr_drg_description  Code_illness  Mortality risk  Surg_Description  \\\n",
       "0                        237             1             1.0                 0   \n",
       "1                         38             3             2.0                 0   \n",
       "2                        237             1             1.0                 0   \n",
       "3                        237             1             1.0                 0   \n",
       "4                        237             2             3.0                 0   \n",
       "...                      ...           ...             ...               ...   \n",
       "1048570                   28             2             3.0                 0   \n",
       "1048571                  227             2             1.0                 0   \n",
       "1048572                   99             4             4.0                 0   \n",
       "1048573                  109             1             1.0                 1   \n",
       "1048574                   28             1             1.0                 0   \n",
       "\n",
       "         Weight_baby  Emergency dept_yes/No  Tot_charg  Tot_cost  \\\n",
       "0                  0                      1    5511.95   5582.49   \n",
       "1                  0                      1    4783.20   5162.82   \n",
       "2                  0                      1    3829.15   4056.52   \n",
       "3                  0                      1    1108.20   1644.75   \n",
       "4                  0                      1    3418.18   3370.87   \n",
       "...              ...                    ...        ...       ...   \n",
       "1048570            0                      1   69650.41  13896.82   \n",
       "1048571            0                      0   13587.38   3918.35   \n",
       "1048572            0                      1  104629.78  24746.64   \n",
       "1048573            0                      1   27521.41   6766.04   \n",
       "1048574            0                      1   24832.23   4974.66   \n",
       "\n",
       "         ratio_of_total_costs_to_total_charges  Result  Payment_Typology  \n",
       "0                                     1.012798       1                 1  \n",
       "1                                     1.079365       1                 1  \n",
       "2                                     1.059379       1                 1  \n",
       "3                                     1.484167       0                 1  \n",
       "4                                     0.986161       1                 1  \n",
       "...                                        ...     ...               ...  \n",
       "1048570                               0.199522       1                 3  \n",
       "1048571                               0.288382       1                 3  \n",
       "1048572                               0.236516       0                 3  \n",
       "1048573                               0.245846       1                 3  \n",
       "1048574                               0.200331       1                 2  \n",
       "\n",
       "[1036658 rows x 19 columns]"
      ]
     },
     "execution_count": 68,
     "metadata": {},
     "output_type": "execute_result"
    }
   ],
   "source": [
    "data"
   ]
  },
  {
   "cell_type": "markdown",
   "id": "70e2854a",
   "metadata": {},
   "source": [
    "## Feature Selection"
   ]
  },
  {
   "cell_type": "code",
   "execution_count": 69,
   "id": "e2653381",
   "metadata": {},
   "outputs": [],
   "source": [
    "X = data.drop(['Result','Home or self care,'],axis=1)\n",
    "y = data['Result']"
   ]
  },
  {
   "cell_type": "code",
   "execution_count": null,
   "id": "6a9d94cd",
   "metadata": {},
   "outputs": [],
   "source": [
    "ext_model = ExtraTreeClassifier()\n",
    "ext_model.fit(X,y)\n",
    "ext_model.feature_importances_"
   ]
  },
  {
   "cell_type": "code",
   "execution_count": null,
   "id": "e0d2e70b",
   "metadata": {},
   "outputs": [],
   "source": [
    "pd.DataFrame(ext_model.feature_importances_,X.columns).sort_values(by=0,ascending=False)"
   ]
  },
  {
   "cell_type": "markdown",
   "id": "d7ea1b29",
   "metadata": {},
   "source": [
    "## Balancing The Dataset"
   ]
  },
  {
   "cell_type": "code",
   "execution_count": 70,
   "id": "3aad3328",
   "metadata": {},
   "outputs": [],
   "source": [
    "data = data.drop(['Surg_Description','Emergency dept_yes/No'],axis=1)"
   ]
  },
  {
   "cell_type": "code",
   "execution_count": 71,
   "id": "7aaa7be3",
   "metadata": {},
   "outputs": [],
   "source": [
    "data = data.drop('Home or self care,',axis=1)"
   ]
  },
  {
   "cell_type": "code",
   "execution_count": 72,
   "id": "1d23d3f3",
   "metadata": {},
   "outputs": [
    {
     "data": {
      "text/plain": [
       "Index(['Hospital Id', 'Age', 'Gender', 'Cultural_group', 'Days_spend_hsptl',\n",
       "       'ccs_diagnosis_code', 'ccs_procedure_code', 'apr_drg_description',\n",
       "       'Code_illness', 'Mortality risk', 'Weight_baby', 'Tot_charg',\n",
       "       'Tot_cost', 'ratio_of_total_costs_to_total_charges', 'Result',\n",
       "       'Payment_Typology'],\n",
       "      dtype='object')"
      ]
     },
     "execution_count": 72,
     "metadata": {},
     "output_type": "execute_result"
    }
   ],
   "source": [
    "data.columns"
   ]
  },
  {
   "cell_type": "code",
   "execution_count": null,
   "id": "6fa4db87",
   "metadata": {},
   "outputs": [],
   "source": []
  },
  {
   "cell_type": "code",
   "execution_count": 73,
   "id": "7d301cc6",
   "metadata": {},
   "outputs": [],
   "source": [
    "X = data.drop('Result',axis=1)\n",
    "y = data['Result']"
   ]
  },
  {
   "cell_type": "code",
   "execution_count": 74,
   "id": "b6ed6d29",
   "metadata": {},
   "outputs": [],
   "source": [
    "from imblearn.over_sampling import SMOTE,RandomOverSampler"
   ]
  },
  {
   "cell_type": "code",
   "execution_count": 75,
   "id": "f29a13f8",
   "metadata": {},
   "outputs": [],
   "source": [
    "balancer = RandomOverSampler()"
   ]
  },
  {
   "cell_type": "code",
   "execution_count": 76,
   "id": "7ef45e5e",
   "metadata": {},
   "outputs": [],
   "source": [
    "X,y = balancer.fit_resample(X,y)"
   ]
  },
  {
   "cell_type": "code",
   "execution_count": 77,
   "id": "ac18e9f6",
   "metadata": {},
   "outputs": [
    {
     "data": {
      "text/plain": [
       "1    776907\n",
       "0    776907\n",
       "Name: Result, dtype: int64"
      ]
     },
     "execution_count": 77,
     "metadata": {},
     "output_type": "execute_result"
    }
   ],
   "source": [
    "y.value_counts()"
   ]
  },
  {
   "cell_type": "markdown",
   "id": "beec4b2f",
   "metadata": {},
   "source": [
    "## Normalizing The Dataset"
   ]
  },
  {
   "cell_type": "code",
   "execution_count": 78,
   "id": "3323942e",
   "metadata": {},
   "outputs": [],
   "source": [
    "scaler = Normalizer()\n",
    "X = scaler.fit_transform(X)"
   ]
  },
  {
   "cell_type": "code",
   "execution_count": 79,
   "id": "0680b345",
   "metadata": {
    "scrolled": false
   },
   "outputs": [
    {
     "data": {
      "text/plain": [
       "array([[6.000e-04, 4.000e-04, 0.000e+00, ..., 7.112e-01, 1.000e-04,\n",
       "        1.000e-04],\n",
       "       [7.000e-04, 7.000e-04, 0.000e+00, ..., 7.333e-01, 2.000e-04,\n",
       "        1.000e-04],\n",
       "       [9.000e-04, 5.000e-04, 0.000e+00, ..., 7.264e-01, 2.000e-04,\n",
       "        2.000e-04],\n",
       "       ...,\n",
       "       [1.610e-02, 1.000e-04, 0.000e+00, ..., 3.348e-01, 0.000e+00,\n",
       "        4.000e-04],\n",
       "       [4.900e-03, 7.000e-04, 2.000e-04, ..., 4.938e-01, 1.000e-04,\n",
       "        3.000e-04],\n",
       "       [5.500e-03, 0.000e+00, 0.000e+00, ..., 3.520e-01, 0.000e+00,\n",
       "        0.000e+00]])"
      ]
     },
     "execution_count": 79,
     "metadata": {},
     "output_type": "execute_result"
    }
   ],
   "source": [
    "np.round(X,4)"
   ]
  },
  {
   "cell_type": "code",
   "execution_count": 80,
   "id": "eaac0d9e",
   "metadata": {},
   "outputs": [
    {
     "data": {
      "text/plain": [
       "1553814"
      ]
     },
     "execution_count": 80,
     "metadata": {},
     "output_type": "execute_result"
    }
   ],
   "source": [
    "len(X)"
   ]
  },
  {
   "cell_type": "markdown",
   "id": "25453843",
   "metadata": {},
   "source": [
    "## Logistic Regression Model"
   ]
  },
  {
   "cell_type": "code",
   "execution_count": 89,
   "id": "ffca48a2",
   "metadata": {},
   "outputs": [],
   "source": [
    "X_samp = X[:1000]\n",
    "y_samp = y[:1000]"
   ]
  },
  {
   "cell_type": "code",
   "execution_count": 88,
   "id": "3eddd855",
   "metadata": {},
   "outputs": [
    {
     "data": {
      "text/plain": [
       "1000"
      ]
     },
     "execution_count": 88,
     "metadata": {},
     "output_type": "execute_result"
    }
   ],
   "source": [
    "len(X_samp)"
   ]
  },
  {
   "cell_type": "code",
   "execution_count": 55,
   "id": "09988cbf",
   "metadata": {},
   "outputs": [],
   "source": [
    " X_train, X_test, y_train, y_test = train_test_split(X, y, test_size=0.33, random_state=42,stratify=y)"
   ]
  },
  {
   "cell_type": "code",
   "execution_count": 315,
   "id": "ce0ed4f9",
   "metadata": {},
   "outputs": [],
   "source": [
    "lr_model = LogisticRegression()"
   ]
  },
  {
   "cell_type": "code",
   "execution_count": 316,
   "id": "dde4e7b6",
   "metadata": {},
   "outputs": [
    {
     "data": {
      "text/plain": [
       "LogisticRegression()"
      ]
     },
     "execution_count": 316,
     "metadata": {},
     "output_type": "execute_result"
    }
   ],
   "source": [
    "lr_model.fit(X_train,y_train)"
   ]
  },
  {
   "cell_type": "code",
   "execution_count": 317,
   "id": "4cccf2ce",
   "metadata": {},
   "outputs": [
    {
     "data": {
      "text/plain": [
       "array([[ 93650,  92644],\n",
       "       [159079, 160085]])"
      ]
     },
     "execution_count": 317,
     "metadata": {},
     "output_type": "execute_result"
    }
   ],
   "source": [
    "lr_preds = lr_model.predict(X_test)\n",
    "confusion_matrix(lr_preds,y_test)"
   ]
  },
  {
   "cell_type": "code",
   "execution_count": 318,
   "id": "aa47c14f",
   "metadata": {},
   "outputs": [
    {
     "name": "stdout",
     "output_type": "stream",
     "text": [
      "              precision    recall  f1-score   support\n",
      "\n",
      "           0       0.37      0.50      0.43    186294\n",
      "           1       0.63      0.50      0.56    319164\n",
      "\n",
      "    accuracy                           0.50    505458\n",
      "   macro avg       0.50      0.50      0.49    505458\n",
      "weighted avg       0.54      0.50      0.51    505458\n",
      "\n"
     ]
    }
   ],
   "source": [
    "print(classification_report(lr_preds,y_test))"
   ]
  },
  {
   "cell_type": "markdown",
   "id": "3df9bc25",
   "metadata": {},
   "source": [
    "## Emsamble Models :  Random Forest & Decision Trees"
   ]
  },
  {
   "cell_type": "code",
   "execution_count": 91,
   "id": "b484734a",
   "metadata": {},
   "outputs": [],
   "source": [
    "rf_model = RandomForestClassifier()"
   ]
  },
  {
   "cell_type": "code",
   "execution_count": 92,
   "id": "f89e210d",
   "metadata": {},
   "outputs": [
    {
     "data": {
      "text/plain": [
       "RandomForestClassifier()"
      ]
     },
     "execution_count": 92,
     "metadata": {},
     "output_type": "execute_result"
    }
   ],
   "source": [
    "rf_model.fit(X_samp,y_samp)"
   ]
  },
  {
   "cell_type": "code",
   "execution_count": 94,
   "id": "60c4bf4e",
   "metadata": {},
   "outputs": [
    {
     "data": {
      "text/plain": [
       "array([[6.36971627e-04, 3.82182976e-04, 0.00000000e+00, 2.54788651e-04,\n",
       "        5.09577301e-04, 1.55421077e-02, 0.00000000e+00, 3.01924551e-02,\n",
       "        1.27394325e-04, 1.27394325e-04, 0.00000000e+00, 7.02191151e-01,\n",
       "        7.11177547e-01, 1.29024668e-04, 1.27394325e-04]])"
      ]
     },
     "execution_count": 94,
     "metadata": {},
     "output_type": "execute_result"
    }
   ],
   "source": [
    "X[:1]"
   ]
  },
  {
   "cell_type": "code",
   "execution_count": 95,
   "id": "e4ccb05e",
   "metadata": {},
   "outputs": [],
   "source": [
    "lists = [6.36971627e-04, 3.82182976e-04, 0.00000000e+00, 2.54788651e-04,\n",
    "        5.09577301e-04, 1.55421077e-02, 0.00000000e+00, 3.01924551e-02,\n",
    "        1.27394325e-04, 1.27394325e-04, 0.00000000e+00, 7.02191151e-01,\n",
    "        7.11177547e-01, 1.29024668e-04, 1.27394325e-04]"
   ]
  },
  {
   "cell_type": "code",
   "execution_count": 99,
   "id": "fa3290bb",
   "metadata": {},
   "outputs": [],
   "source": [
    "lists = np.array(lists)"
   ]
  },
  {
   "cell_type": "code",
   "execution_count": 100,
   "id": "244b4638",
   "metadata": {
    "scrolled": true
   },
   "outputs": [
    {
     "data": {
      "text/plain": [
       "array([1])"
      ]
     },
     "execution_count": 100,
     "metadata": {},
     "output_type": "execute_result"
    }
   ],
   "source": [
    "rf_model.predict(lists.reshape(1, -1))"
   ]
  },
  {
   "cell_type": "code",
   "execution_count": null,
   "id": "1dae437c",
   "metadata": {},
   "outputs": [],
   "source": []
  },
  {
   "cell_type": "code",
   "execution_count": null,
   "id": "0c43bffc",
   "metadata": {},
   "outputs": [],
   "source": []
  },
  {
   "cell_type": "code",
   "execution_count": null,
   "id": "28873fa5",
   "metadata": {},
   "outputs": [],
   "source": []
  },
  {
   "cell_type": "code",
   "execution_count": null,
   "id": "f9ff3f02",
   "metadata": {},
   "outputs": [],
   "source": []
  },
  {
   "cell_type": "code",
   "execution_count": 93,
   "id": "54c6514e",
   "metadata": {},
   "outputs": [
    {
     "ename": "KeyboardInterrupt",
     "evalue": "",
     "output_type": "error",
     "traceback": [
      "\u001b[0;31m---------------------------------------------------------------------------\u001b[0m",
      "\u001b[0;31mKeyboardInterrupt\u001b[0m                         Traceback (most recent call last)",
      "Input \u001b[0;32mIn [93]\u001b[0m, in \u001b[0;36m<cell line: 1>\u001b[0;34m()\u001b[0m\n\u001b[0;32m----> 1\u001b[0m preds \u001b[38;5;241m=\u001b[39m \u001b[43mrf_model\u001b[49m\u001b[38;5;241;43m.\u001b[39;49m\u001b[43mpredict\u001b[49m\u001b[43m(\u001b[49m\u001b[43mX\u001b[49m\u001b[43m)\u001b[49m\n\u001b[1;32m      2\u001b[0m confusion_matrix(preds,y)\n",
      "File \u001b[0;32m~/opt/anaconda3/lib/python3.8/site-packages/sklearn/ensemble/_forest.py:798\u001b[0m, in \u001b[0;36mForestClassifier.predict\u001b[0;34m(self, X)\u001b[0m\n\u001b[1;32m    777\u001b[0m \u001b[38;5;28;01mdef\u001b[39;00m \u001b[38;5;21mpredict\u001b[39m(\u001b[38;5;28mself\u001b[39m, X):\n\u001b[1;32m    778\u001b[0m     \u001b[38;5;124;03m\"\"\"\u001b[39;00m\n\u001b[1;32m    779\u001b[0m \u001b[38;5;124;03m    Predict class for X.\u001b[39;00m\n\u001b[1;32m    780\u001b[0m \n\u001b[0;32m   (...)\u001b[0m\n\u001b[1;32m    796\u001b[0m \u001b[38;5;124;03m        The predicted classes.\u001b[39;00m\n\u001b[1;32m    797\u001b[0m \u001b[38;5;124;03m    \"\"\"\u001b[39;00m\n\u001b[0;32m--> 798\u001b[0m     proba \u001b[38;5;241m=\u001b[39m \u001b[38;5;28;43mself\u001b[39;49m\u001b[38;5;241;43m.\u001b[39;49m\u001b[43mpredict_proba\u001b[49m\u001b[43m(\u001b[49m\u001b[43mX\u001b[49m\u001b[43m)\u001b[49m\n\u001b[1;32m    800\u001b[0m     \u001b[38;5;28;01mif\u001b[39;00m \u001b[38;5;28mself\u001b[39m\u001b[38;5;241m.\u001b[39mn_outputs_ \u001b[38;5;241m==\u001b[39m \u001b[38;5;241m1\u001b[39m:\n\u001b[1;32m    801\u001b[0m         \u001b[38;5;28;01mreturn\u001b[39;00m \u001b[38;5;28mself\u001b[39m\u001b[38;5;241m.\u001b[39mclasses_\u001b[38;5;241m.\u001b[39mtake(np\u001b[38;5;241m.\u001b[39margmax(proba, axis\u001b[38;5;241m=\u001b[39m\u001b[38;5;241m1\u001b[39m), axis\u001b[38;5;241m=\u001b[39m\u001b[38;5;241m0\u001b[39m)\n",
      "File \u001b[0;32m~/opt/anaconda3/lib/python3.8/site-packages/sklearn/ensemble/_forest.py:851\u001b[0m, in \u001b[0;36mForestClassifier.predict_proba\u001b[0;34m(self, X)\u001b[0m\n\u001b[1;32m    846\u001b[0m all_proba \u001b[38;5;241m=\u001b[39m [\n\u001b[1;32m    847\u001b[0m     np\u001b[38;5;241m.\u001b[39mzeros((X\u001b[38;5;241m.\u001b[39mshape[\u001b[38;5;241m0\u001b[39m], j), dtype\u001b[38;5;241m=\u001b[39mnp\u001b[38;5;241m.\u001b[39mfloat64)\n\u001b[1;32m    848\u001b[0m     \u001b[38;5;28;01mfor\u001b[39;00m j \u001b[38;5;129;01min\u001b[39;00m np\u001b[38;5;241m.\u001b[39matleast_1d(\u001b[38;5;28mself\u001b[39m\u001b[38;5;241m.\u001b[39mn_classes_)\n\u001b[1;32m    849\u001b[0m ]\n\u001b[1;32m    850\u001b[0m lock \u001b[38;5;241m=\u001b[39m threading\u001b[38;5;241m.\u001b[39mLock()\n\u001b[0;32m--> 851\u001b[0m \u001b[43mParallel\u001b[49m\u001b[43m(\u001b[49m\n\u001b[1;32m    852\u001b[0m \u001b[43m    \u001b[49m\u001b[43mn_jobs\u001b[49m\u001b[38;5;241;43m=\u001b[39;49m\u001b[43mn_jobs\u001b[49m\u001b[43m,\u001b[49m\n\u001b[1;32m    853\u001b[0m \u001b[43m    \u001b[49m\u001b[43mverbose\u001b[49m\u001b[38;5;241;43m=\u001b[39;49m\u001b[38;5;28;43mself\u001b[39;49m\u001b[38;5;241;43m.\u001b[39;49m\u001b[43mverbose\u001b[49m\u001b[43m,\u001b[49m\n\u001b[1;32m    854\u001b[0m \u001b[43m    \u001b[49m\u001b[38;5;241;43m*\u001b[39;49m\u001b[38;5;241;43m*\u001b[39;49m\u001b[43m_joblib_parallel_args\u001b[49m\u001b[43m(\u001b[49m\u001b[43mrequire\u001b[49m\u001b[38;5;241;43m=\u001b[39;49m\u001b[38;5;124;43m\"\u001b[39;49m\u001b[38;5;124;43msharedmem\u001b[39;49m\u001b[38;5;124;43m\"\u001b[39;49m\u001b[43m)\u001b[49m\u001b[43m,\u001b[49m\n\u001b[1;32m    855\u001b[0m \u001b[43m\u001b[49m\u001b[43m)\u001b[49m\u001b[43m(\u001b[49m\n\u001b[1;32m    856\u001b[0m \u001b[43m    \u001b[49m\u001b[43mdelayed\u001b[49m\u001b[43m(\u001b[49m\u001b[43m_accumulate_prediction\u001b[49m\u001b[43m)\u001b[49m\u001b[43m(\u001b[49m\u001b[43me\u001b[49m\u001b[38;5;241;43m.\u001b[39;49m\u001b[43mpredict_proba\u001b[49m\u001b[43m,\u001b[49m\u001b[43m \u001b[49m\u001b[43mX\u001b[49m\u001b[43m,\u001b[49m\u001b[43m \u001b[49m\u001b[43mall_proba\u001b[49m\u001b[43m,\u001b[49m\u001b[43m \u001b[49m\u001b[43mlock\u001b[49m\u001b[43m)\u001b[49m\n\u001b[1;32m    857\u001b[0m \u001b[43m    \u001b[49m\u001b[38;5;28;43;01mfor\u001b[39;49;00m\u001b[43m \u001b[49m\u001b[43me\u001b[49m\u001b[43m \u001b[49m\u001b[38;5;129;43;01min\u001b[39;49;00m\u001b[43m \u001b[49m\u001b[38;5;28;43mself\u001b[39;49m\u001b[38;5;241;43m.\u001b[39;49m\u001b[43mestimators_\u001b[49m\n\u001b[1;32m    858\u001b[0m \u001b[43m\u001b[49m\u001b[43m)\u001b[49m\n\u001b[1;32m    860\u001b[0m \u001b[38;5;28;01mfor\u001b[39;00m proba \u001b[38;5;129;01min\u001b[39;00m all_proba:\n\u001b[1;32m    861\u001b[0m     proba \u001b[38;5;241m/\u001b[39m\u001b[38;5;241m=\u001b[39m \u001b[38;5;28mlen\u001b[39m(\u001b[38;5;28mself\u001b[39m\u001b[38;5;241m.\u001b[39mestimators_)\n",
      "File \u001b[0;32m~/opt/anaconda3/lib/python3.8/site-packages/joblib/parallel.py:1046\u001b[0m, in \u001b[0;36mParallel.__call__\u001b[0;34m(self, iterable)\u001b[0m\n\u001b[1;32m   1043\u001b[0m \u001b[38;5;28;01mif\u001b[39;00m \u001b[38;5;28mself\u001b[39m\u001b[38;5;241m.\u001b[39mdispatch_one_batch(iterator):\n\u001b[1;32m   1044\u001b[0m     \u001b[38;5;28mself\u001b[39m\u001b[38;5;241m.\u001b[39m_iterating \u001b[38;5;241m=\u001b[39m \u001b[38;5;28mself\u001b[39m\u001b[38;5;241m.\u001b[39m_original_iterator \u001b[38;5;129;01mis\u001b[39;00m \u001b[38;5;129;01mnot\u001b[39;00m \u001b[38;5;28;01mNone\u001b[39;00m\n\u001b[0;32m-> 1046\u001b[0m \u001b[38;5;28;01mwhile\u001b[39;00m \u001b[38;5;28;43mself\u001b[39;49m\u001b[38;5;241;43m.\u001b[39;49m\u001b[43mdispatch_one_batch\u001b[49m\u001b[43m(\u001b[49m\u001b[43miterator\u001b[49m\u001b[43m)\u001b[49m:\n\u001b[1;32m   1047\u001b[0m     \u001b[38;5;28;01mpass\u001b[39;00m\n\u001b[1;32m   1049\u001b[0m \u001b[38;5;28;01mif\u001b[39;00m pre_dispatch \u001b[38;5;241m==\u001b[39m \u001b[38;5;124m\"\u001b[39m\u001b[38;5;124mall\u001b[39m\u001b[38;5;124m\"\u001b[39m \u001b[38;5;129;01mor\u001b[39;00m n_jobs \u001b[38;5;241m==\u001b[39m \u001b[38;5;241m1\u001b[39m:\n\u001b[1;32m   1050\u001b[0m     \u001b[38;5;66;03m# The iterable was consumed all at once by the above for loop.\u001b[39;00m\n\u001b[1;32m   1051\u001b[0m     \u001b[38;5;66;03m# No need to wait for async callbacks to trigger to\u001b[39;00m\n\u001b[1;32m   1052\u001b[0m     \u001b[38;5;66;03m# consumption.\u001b[39;00m\n",
      "File \u001b[0;32m~/opt/anaconda3/lib/python3.8/site-packages/joblib/parallel.py:861\u001b[0m, in \u001b[0;36mParallel.dispatch_one_batch\u001b[0;34m(self, iterator)\u001b[0m\n\u001b[1;32m    859\u001b[0m     \u001b[38;5;28;01mreturn\u001b[39;00m \u001b[38;5;28;01mFalse\u001b[39;00m\n\u001b[1;32m    860\u001b[0m \u001b[38;5;28;01melse\u001b[39;00m:\n\u001b[0;32m--> 861\u001b[0m     \u001b[38;5;28;43mself\u001b[39;49m\u001b[38;5;241;43m.\u001b[39;49m\u001b[43m_dispatch\u001b[49m\u001b[43m(\u001b[49m\u001b[43mtasks\u001b[49m\u001b[43m)\u001b[49m\n\u001b[1;32m    862\u001b[0m     \u001b[38;5;28;01mreturn\u001b[39;00m \u001b[38;5;28;01mTrue\u001b[39;00m\n",
      "File \u001b[0;32m~/opt/anaconda3/lib/python3.8/site-packages/joblib/parallel.py:779\u001b[0m, in \u001b[0;36mParallel._dispatch\u001b[0;34m(self, batch)\u001b[0m\n\u001b[1;32m    777\u001b[0m \u001b[38;5;28;01mwith\u001b[39;00m \u001b[38;5;28mself\u001b[39m\u001b[38;5;241m.\u001b[39m_lock:\n\u001b[1;32m    778\u001b[0m     job_idx \u001b[38;5;241m=\u001b[39m \u001b[38;5;28mlen\u001b[39m(\u001b[38;5;28mself\u001b[39m\u001b[38;5;241m.\u001b[39m_jobs)\n\u001b[0;32m--> 779\u001b[0m     job \u001b[38;5;241m=\u001b[39m \u001b[38;5;28;43mself\u001b[39;49m\u001b[38;5;241;43m.\u001b[39;49m\u001b[43m_backend\u001b[49m\u001b[38;5;241;43m.\u001b[39;49m\u001b[43mapply_async\u001b[49m\u001b[43m(\u001b[49m\u001b[43mbatch\u001b[49m\u001b[43m,\u001b[49m\u001b[43m \u001b[49m\u001b[43mcallback\u001b[49m\u001b[38;5;241;43m=\u001b[39;49m\u001b[43mcb\u001b[49m\u001b[43m)\u001b[49m\n\u001b[1;32m    780\u001b[0m     \u001b[38;5;66;03m# A job can complete so quickly than its callback is\u001b[39;00m\n\u001b[1;32m    781\u001b[0m     \u001b[38;5;66;03m# called before we get here, causing self._jobs to\u001b[39;00m\n\u001b[1;32m    782\u001b[0m     \u001b[38;5;66;03m# grow. To ensure correct results ordering, .insert is\u001b[39;00m\n\u001b[1;32m    783\u001b[0m     \u001b[38;5;66;03m# used (rather than .append) in the following line\u001b[39;00m\n\u001b[1;32m    784\u001b[0m     \u001b[38;5;28mself\u001b[39m\u001b[38;5;241m.\u001b[39m_jobs\u001b[38;5;241m.\u001b[39minsert(job_idx, job)\n",
      "File \u001b[0;32m~/opt/anaconda3/lib/python3.8/site-packages/joblib/_parallel_backends.py:208\u001b[0m, in \u001b[0;36mSequentialBackend.apply_async\u001b[0;34m(self, func, callback)\u001b[0m\n\u001b[1;32m    206\u001b[0m \u001b[38;5;28;01mdef\u001b[39;00m \u001b[38;5;21mapply_async\u001b[39m(\u001b[38;5;28mself\u001b[39m, func, callback\u001b[38;5;241m=\u001b[39m\u001b[38;5;28;01mNone\u001b[39;00m):\n\u001b[1;32m    207\u001b[0m     \u001b[38;5;124;03m\"\"\"Schedule a func to be run\"\"\"\u001b[39;00m\n\u001b[0;32m--> 208\u001b[0m     result \u001b[38;5;241m=\u001b[39m \u001b[43mImmediateResult\u001b[49m\u001b[43m(\u001b[49m\u001b[43mfunc\u001b[49m\u001b[43m)\u001b[49m\n\u001b[1;32m    209\u001b[0m     \u001b[38;5;28;01mif\u001b[39;00m callback:\n\u001b[1;32m    210\u001b[0m         callback(result)\n",
      "File \u001b[0;32m~/opt/anaconda3/lib/python3.8/site-packages/joblib/_parallel_backends.py:572\u001b[0m, in \u001b[0;36mImmediateResult.__init__\u001b[0;34m(self, batch)\u001b[0m\n\u001b[1;32m    569\u001b[0m \u001b[38;5;28;01mdef\u001b[39;00m \u001b[38;5;21m__init__\u001b[39m(\u001b[38;5;28mself\u001b[39m, batch):\n\u001b[1;32m    570\u001b[0m     \u001b[38;5;66;03m# Don't delay the application, to avoid keeping the input\u001b[39;00m\n\u001b[1;32m    571\u001b[0m     \u001b[38;5;66;03m# arguments in memory\u001b[39;00m\n\u001b[0;32m--> 572\u001b[0m     \u001b[38;5;28mself\u001b[39m\u001b[38;5;241m.\u001b[39mresults \u001b[38;5;241m=\u001b[39m \u001b[43mbatch\u001b[49m\u001b[43m(\u001b[49m\u001b[43m)\u001b[49m\n",
      "File \u001b[0;32m~/opt/anaconda3/lib/python3.8/site-packages/joblib/parallel.py:262\u001b[0m, in \u001b[0;36mBatchedCalls.__call__\u001b[0;34m(self)\u001b[0m\n\u001b[1;32m    258\u001b[0m \u001b[38;5;28;01mdef\u001b[39;00m \u001b[38;5;21m__call__\u001b[39m(\u001b[38;5;28mself\u001b[39m):\n\u001b[1;32m    259\u001b[0m     \u001b[38;5;66;03m# Set the default nested backend to self._backend but do not set the\u001b[39;00m\n\u001b[1;32m    260\u001b[0m     \u001b[38;5;66;03m# change the default number of processes to -1\u001b[39;00m\n\u001b[1;32m    261\u001b[0m     \u001b[38;5;28;01mwith\u001b[39;00m parallel_backend(\u001b[38;5;28mself\u001b[39m\u001b[38;5;241m.\u001b[39m_backend, n_jobs\u001b[38;5;241m=\u001b[39m\u001b[38;5;28mself\u001b[39m\u001b[38;5;241m.\u001b[39m_n_jobs):\n\u001b[0;32m--> 262\u001b[0m         \u001b[38;5;28;01mreturn\u001b[39;00m [func(\u001b[38;5;241m*\u001b[39margs, \u001b[38;5;241m*\u001b[39m\u001b[38;5;241m*\u001b[39mkwargs)\n\u001b[1;32m    263\u001b[0m                 \u001b[38;5;28;01mfor\u001b[39;00m func, args, kwargs \u001b[38;5;129;01min\u001b[39;00m \u001b[38;5;28mself\u001b[39m\u001b[38;5;241m.\u001b[39mitems]\n",
      "File \u001b[0;32m~/opt/anaconda3/lib/python3.8/site-packages/joblib/parallel.py:262\u001b[0m, in \u001b[0;36m<listcomp>\u001b[0;34m(.0)\u001b[0m\n\u001b[1;32m    258\u001b[0m \u001b[38;5;28;01mdef\u001b[39;00m \u001b[38;5;21m__call__\u001b[39m(\u001b[38;5;28mself\u001b[39m):\n\u001b[1;32m    259\u001b[0m     \u001b[38;5;66;03m# Set the default nested backend to self._backend but do not set the\u001b[39;00m\n\u001b[1;32m    260\u001b[0m     \u001b[38;5;66;03m# change the default number of processes to -1\u001b[39;00m\n\u001b[1;32m    261\u001b[0m     \u001b[38;5;28;01mwith\u001b[39;00m parallel_backend(\u001b[38;5;28mself\u001b[39m\u001b[38;5;241m.\u001b[39m_backend, n_jobs\u001b[38;5;241m=\u001b[39m\u001b[38;5;28mself\u001b[39m\u001b[38;5;241m.\u001b[39m_n_jobs):\n\u001b[0;32m--> 262\u001b[0m         \u001b[38;5;28;01mreturn\u001b[39;00m [\u001b[43mfunc\u001b[49m\u001b[43m(\u001b[49m\u001b[38;5;241;43m*\u001b[39;49m\u001b[43margs\u001b[49m\u001b[43m,\u001b[49m\u001b[43m \u001b[49m\u001b[38;5;241;43m*\u001b[39;49m\u001b[38;5;241;43m*\u001b[39;49m\u001b[43mkwargs\u001b[49m\u001b[43m)\u001b[49m\n\u001b[1;32m    263\u001b[0m                 \u001b[38;5;28;01mfor\u001b[39;00m func, args, kwargs \u001b[38;5;129;01min\u001b[39;00m \u001b[38;5;28mself\u001b[39m\u001b[38;5;241m.\u001b[39mitems]\n",
      "File \u001b[0;32m~/opt/anaconda3/lib/python3.8/site-packages/sklearn/utils/fixes.py:211\u001b[0m, in \u001b[0;36m_FuncWrapper.__call__\u001b[0;34m(self, *args, **kwargs)\u001b[0m\n\u001b[1;32m    209\u001b[0m \u001b[38;5;28;01mdef\u001b[39;00m \u001b[38;5;21m__call__\u001b[39m(\u001b[38;5;28mself\u001b[39m, \u001b[38;5;241m*\u001b[39margs, \u001b[38;5;241m*\u001b[39m\u001b[38;5;241m*\u001b[39mkwargs):\n\u001b[1;32m    210\u001b[0m     \u001b[38;5;28;01mwith\u001b[39;00m config_context(\u001b[38;5;241m*\u001b[39m\u001b[38;5;241m*\u001b[39m\u001b[38;5;28mself\u001b[39m\u001b[38;5;241m.\u001b[39mconfig):\n\u001b[0;32m--> 211\u001b[0m         \u001b[38;5;28;01mreturn\u001b[39;00m \u001b[38;5;28;43mself\u001b[39;49m\u001b[38;5;241;43m.\u001b[39;49m\u001b[43mfunction\u001b[49m\u001b[43m(\u001b[49m\u001b[38;5;241;43m*\u001b[39;49m\u001b[43margs\u001b[49m\u001b[43m,\u001b[49m\u001b[43m \u001b[49m\u001b[38;5;241;43m*\u001b[39;49m\u001b[38;5;241;43m*\u001b[39;49m\u001b[43mkwargs\u001b[49m\u001b[43m)\u001b[49m\n",
      "File \u001b[0;32m~/opt/anaconda3/lib/python3.8/site-packages/sklearn/ensemble/_forest.py:630\u001b[0m, in \u001b[0;36m_accumulate_prediction\u001b[0;34m(predict, X, out, lock)\u001b[0m\n\u001b[1;32m    623\u001b[0m \u001b[38;5;28;01mdef\u001b[39;00m \u001b[38;5;21m_accumulate_prediction\u001b[39m(predict, X, out, lock):\n\u001b[1;32m    624\u001b[0m     \u001b[38;5;124;03m\"\"\"\u001b[39;00m\n\u001b[1;32m    625\u001b[0m \u001b[38;5;124;03m    This is a utility function for joblib's Parallel.\u001b[39;00m\n\u001b[1;32m    626\u001b[0m \n\u001b[1;32m    627\u001b[0m \u001b[38;5;124;03m    It can't go locally in ForestClassifier or ForestRegressor, because joblib\u001b[39;00m\n\u001b[1;32m    628\u001b[0m \u001b[38;5;124;03m    complains that it cannot pickle it when placed there.\u001b[39;00m\n\u001b[1;32m    629\u001b[0m \u001b[38;5;124;03m    \"\"\"\u001b[39;00m\n\u001b[0;32m--> 630\u001b[0m     prediction \u001b[38;5;241m=\u001b[39m \u001b[43mpredict\u001b[49m\u001b[43m(\u001b[49m\u001b[43mX\u001b[49m\u001b[43m,\u001b[49m\u001b[43m \u001b[49m\u001b[43mcheck_input\u001b[49m\u001b[38;5;241;43m=\u001b[39;49m\u001b[38;5;28;43;01mFalse\u001b[39;49;00m\u001b[43m)\u001b[49m\n\u001b[1;32m    631\u001b[0m     \u001b[38;5;28;01mwith\u001b[39;00m lock:\n\u001b[1;32m    632\u001b[0m         \u001b[38;5;28;01mif\u001b[39;00m \u001b[38;5;28mlen\u001b[39m(out) \u001b[38;5;241m==\u001b[39m \u001b[38;5;241m1\u001b[39m:\n",
      "File \u001b[0;32m~/opt/anaconda3/lib/python3.8/site-packages/sklearn/tree/_classes.py:972\u001b[0m, in \u001b[0;36mDecisionTreeClassifier.predict_proba\u001b[0;34m(self, X, check_input)\u001b[0m\n\u001b[1;32m    970\u001b[0m check_is_fitted(\u001b[38;5;28mself\u001b[39m)\n\u001b[1;32m    971\u001b[0m X \u001b[38;5;241m=\u001b[39m \u001b[38;5;28mself\u001b[39m\u001b[38;5;241m.\u001b[39m_validate_X_predict(X, check_input)\n\u001b[0;32m--> 972\u001b[0m proba \u001b[38;5;241m=\u001b[39m \u001b[38;5;28;43mself\u001b[39;49m\u001b[38;5;241;43m.\u001b[39;49m\u001b[43mtree_\u001b[49m\u001b[38;5;241;43m.\u001b[39;49m\u001b[43mpredict\u001b[49m\u001b[43m(\u001b[49m\u001b[43mX\u001b[49m\u001b[43m)\u001b[49m\n\u001b[1;32m    974\u001b[0m \u001b[38;5;28;01mif\u001b[39;00m \u001b[38;5;28mself\u001b[39m\u001b[38;5;241m.\u001b[39mn_outputs_ \u001b[38;5;241m==\u001b[39m \u001b[38;5;241m1\u001b[39m:\n\u001b[1;32m    975\u001b[0m     proba \u001b[38;5;241m=\u001b[39m proba[:, : \u001b[38;5;28mself\u001b[39m\u001b[38;5;241m.\u001b[39mn_classes_]\n",
      "\u001b[0;31mKeyboardInterrupt\u001b[0m: "
     ]
    }
   ],
   "source": [
    "preds = rf_model.predict(X)\n",
    "confusion_matrix(preds,y)"
   ]
  },
  {
   "cell_type": "code",
   "execution_count": 64,
   "id": "82256c9e",
   "metadata": {
    "scrolled": true
   },
   "outputs": [
    {
     "name": "stdout",
     "output_type": "stream",
     "text": [
      "              precision    recall  f1-score   support\n",
      "\n",
      "           0       1.00      1.00      1.00    778754\n",
      "           1       1.00      1.00      1.00    775060\n",
      "\n",
      "    accuracy                           1.00   1553814\n",
      "   macro avg       1.00      1.00      1.00   1553814\n",
      "weighted avg       1.00      1.00      1.00   1553814\n",
      "\n"
     ]
    }
   ],
   "source": [
    "print(classification_report(preds,y))"
   ]
  },
  {
   "cell_type": "code",
   "execution_count": 220,
   "id": "fd19e12c",
   "metadata": {},
   "outputs": [],
   "source": [
    "dt_model = DecisionTreeClassifier()"
   ]
  },
  {
   "cell_type": "code",
   "execution_count": null,
   "id": "8c0773d7",
   "metadata": {},
   "outputs": [],
   "source": [
    "dt_model.fit(X_train,y_train)"
   ]
  },
  {
   "cell_type": "code",
   "execution_count": null,
   "id": "b48c0333",
   "metadata": {},
   "outputs": [],
   "source": [
    "preds = dt_model.predict(X_test)\n",
    "confusion_matrix(preds,y_test)"
   ]
  },
  {
   "cell_type": "code",
   "execution_count": null,
   "id": "1006111f",
   "metadata": {},
   "outputs": [],
   "source": [
    "print(classification_report(preds,y_test))"
   ]
  },
  {
   "cell_type": "markdown",
   "id": "c4b2867e",
   "metadata": {},
   "source": [
    "## HyperParameter Tuning"
   ]
  },
  {
   "cell_type": "code",
   "execution_count": 93,
   "id": "9a0ef864",
   "metadata": {},
   "outputs": [
    {
     "data": {
      "text/plain": [
       "{'ccp_alpha': 0.0,\n",
       " 'class_weight': None,\n",
       " 'criterion': 'gini',\n",
       " 'max_depth': None,\n",
       " 'max_features': None,\n",
       " 'max_leaf_nodes': None,\n",
       " 'min_impurity_decrease': 0.0,\n",
       " 'min_samples_leaf': 1,\n",
       " 'min_samples_split': 2,\n",
       " 'min_weight_fraction_leaf': 0.0,\n",
       " 'random_state': None,\n",
       " 'splitter': 'best'}"
      ]
     },
     "execution_count": 93,
     "metadata": {},
     "output_type": "execute_result"
    }
   ],
   "source": [
    "dt_model.get_params()"
   ]
  },
  {
   "cell_type": "code",
   "execution_count": 48,
   "id": "d8ac40a2",
   "metadata": {},
   "outputs": [],
   "source": [
    "params = {'max_depth':[3,4,8,20,50,80,100,110,120,130],\n",
    "         'ccp_alpha':[0.00002,0.0001,0.0002,0.00001],\n",
    "         'min_samples_leaf': [1,2,4,6,8,12,20],\n",
    "         'min_samples_split': [1,2,4,6,8,12,16,22]}"
   ]
  },
  {
   "cell_type": "code",
   "execution_count": 94,
   "id": "9fc7c3a9",
   "metadata": {},
   "outputs": [],
   "source": [
    "param_2 = [0.00000000000121,0.0000000012,0.000000000012] "
   ]
  },
  {
   "cell_type": "code",
   "execution_count": 107,
   "id": "f121ff66",
   "metadata": {},
   "outputs": [],
   "source": [
    "import matplotlib.pyplot as plt\n",
    "import sklearn.tree as tree"
   ]
  },
  {
   "cell_type": "code",
   "execution_count": 95,
   "id": "87eada60",
   "metadata": {},
   "outputs": [],
   "source": [
    "tot_param2 = []\n",
    "tot_score = []\n",
    "def testing(model,y1):\n",
    "        for y in y1:\n",
    "                model = DecisionTreeClassifier(ccp_alpha=0.0000000012,)\n",
    "                model.fit(X_train,y_train)\n",
    "                predis = model.predict(X_test)\n",
    "                score = accuracy_score(predis,y_test)\n",
    "                tot_score.append(score)\n",
    "                tot_param2.append(y)                                    "
   ]
  },
  {
   "cell_type": "code",
   "execution_count": 96,
   "id": "3c979470",
   "metadata": {},
   "outputs": [],
   "source": [
    "testing(dt_model,param_2)"
   ]
  },
  {
   "cell_type": "code",
   "execution_count": 97,
   "id": "c5a3c541",
   "metadata": {},
   "outputs": [
    {
     "name": "stdout",
     "output_type": "stream",
     "text": [
      "[1.21e-12, 1.2e-09, 1.2e-11]\n",
      "/n\n",
      "[0.7901606797735389, 0.7905273237524841, 0.78995590521083]\n"
     ]
    }
   ],
   "source": [
    "print(tot_param2)\n",
    "print('/n')\n",
    "print(tot_score) #0.0000000001 best yet"
   ]
  },
  {
   "cell_type": "code",
   "execution_count": 52,
   "id": "5d0c127c",
   "metadata": {},
   "outputs": [],
   "source": [
    "RSCV = RandomizedSearchCV(estimator=dt_model,param_distributions=params,verbose=10)"
   ]
  },
  {
   "cell_type": "code",
   "execution_count": 53,
   "id": "761b4130",
   "metadata": {},
   "outputs": [
    {
     "data": {
      "text/plain": [
       "1041055"
      ]
     },
     "execution_count": 53,
     "metadata": {},
     "output_type": "execute_result"
    }
   ],
   "source": [
    "len(X_train)"
   ]
  },
  {
   "cell_type": "code",
   "execution_count": null,
   "id": "568f6664",
   "metadata": {},
   "outputs": [],
   "source": [
    "RSCV.best_params_"
   ]
  },
  {
   "cell_type": "code",
   "execution_count": null,
   "id": "d0e06fa9",
   "metadata": {},
   "outputs": [],
   "source": [
    "RSCV.best_score_"
   ]
  },
  {
   "cell_type": "code",
   "execution_count": 65,
   "id": "01ba6bae",
   "metadata": {},
   "outputs": [],
   "source": [
    "import pickle"
   ]
  },
  {
   "cell_type": "code",
   "execution_count": 67,
   "id": "cc79a6c7",
   "metadata": {},
   "outputs": [],
   "source": [
    "pickle.dump(rf_model,open('dep_mod','wb'))"
   ]
  },
  {
   "cell_type": "code",
   "execution_count": null,
   "id": "0ded084d",
   "metadata": {},
   "outputs": [],
   "source": []
  }
 ],
 "metadata": {
  "kernelspec": {
   "display_name": "Python 3 (ipykernel)",
   "language": "python",
   "name": "python3"
  },
  "language_info": {
   "codemirror_mode": {
    "name": "ipython",
    "version": 3
   },
   "file_extension": ".py",
   "mimetype": "text/x-python",
   "name": "python",
   "nbconvert_exporter": "python",
   "pygments_lexer": "ipython3",
   "version": "3.8.3"
  }
 },
 "nbformat": 4,
 "nbformat_minor": 5
}
